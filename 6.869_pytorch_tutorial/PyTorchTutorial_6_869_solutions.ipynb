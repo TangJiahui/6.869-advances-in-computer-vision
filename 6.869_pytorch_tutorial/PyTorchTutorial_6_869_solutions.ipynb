{
  "nbformat": 4,
  "nbformat_minor": 0,
  "metadata": {
    "accelerator": "GPU",
    "colab": {
      "name": "PyTorchTutorial_6.869_solutions",
      "provenance": [],
      "collapsed_sections": [
        "Ggjwhxk_afWf",
        "u0b8bbC2Yrrx"
      ],
      "toc_visible": true
    },
    "kernelspec": {
      "display_name": "Python 3",
      "name": "python3"
    }
  },
  "cells": [
    {
      "cell_type": "markdown",
      "metadata": {
        "id": "aJc-uAekwDVD"
      },
      "source": [
        "In this notebook, we will introduce PyTorch, talk about its important concepts and features, and eventually train an MNIST classifier using what we have learned. "
      ]
    },
    {
      "cell_type": "markdown",
      "metadata": {
        "id": "qXR4A8MKuY5V"
      },
      "source": [
        "## NOTE: Click the top-left \"Open In Playground\" button! "
      ]
    },
    {
      "cell_type": "markdown",
      "metadata": {
        "id": "IAae8nayHhH2"
      },
      "source": [
        "## 6.819 / 6.869 PyTorch Tutorial (03/17/2021, 03/19/2021)\n",
        "\n",
        "Written by Tongzhou Wang (MIT)\n",
        "\n",
        "Taught by Geeticka Chauhan (MIT), Ching-Yao Chuang (MIT)"
      ]
    },
    {
      "cell_type": "markdown",
      "metadata": {
        "id": "VZUcz-vU-vKw"
      },
      "source": [
        "## Check running in GPU session:\n",
        "Runtime -> Change runtime type -> Hardware accelerator -> GPU"
      ]
    },
    {
      "cell_type": "markdown",
      "metadata": {
        "id": "rKJkpn84iMBw"
      },
      "source": [
        "## What is PyTorch?\n",
        "\n",
        "1. A Python GPU-accelerated tensor library (NumPy, but faster)\n",
        "2. Differentiable Programming with dynamic computation graphs\n",
        "3. Flexible and efficient **neural network** library\n",
        "4. Python-first framework (easy to integrate with other Python libraries, debug, and extend)\n",
        "  + Quick conversion from & to NumPy array, integration with other Python libs.\n",
        "  + Your favorite Python debugger.\n",
        "  + Adding custom ops with Python/c++ extension. \n",
        "  + Running in purely c++ environment with the c++ API."
      ]
    },
    {
      "cell_type": "markdown",
      "metadata": {
        "id": "nCij29tonH84"
      },
      "source": [
        "Useful links:\n",
        "\n",
        "+ PyTorch documentation: https://pytorch.org/docs/stable/index.html\n",
        "\n",
        "  Most math operations can be found as `torch.*` or `Tensor.*`.\n",
        "+ PyTorch official tutorials (60-min blitz is a good start): https://pytorch.org/tutorials/\n",
        "    - Transfer learning tutorial: https://pytorch.org/tutorials/beginner/transfer_learning_tutorial.html\n",
        "+ PyTorch examples (DCGAN, ImageNet training, Reinforcement Learning, etc.): https://github.com/pytorch/examples/"
      ]
    },
    {
      "cell_type": "code",
      "metadata": {
        "colab": {
          "base_uri": "https://localhost:8080/"
        },
        "id": "FgmnwpcHf8U0",
        "outputId": "5f0f439c-2c1e-42dc-b3f0-343d1f0838ca"
      },
      "source": [
        "# dripyto# install basical image libs\n",
        "!pip install Pillow>=5.0.0\n",
        "!pip install -U image\n",
        "!pip install wheel\n",
        "\n",
        "# install torch and torchvision (a utility library for computer vision that provides many public datasets and pre-trained models)\n",
        "!pip install torch torchvision"
      ],
      "execution_count": null,
      "outputs": [
        {
          "output_type": "stream",
          "name": "stdout",
          "text": [
            "Collecting image\n",
            "  Downloading image-1.5.33.tar.gz (15 kB)\n",
            "Requirement already satisfied: pillow in /usr/local/lib/python3.7/dist-packages (from image) (7.1.2)\n",
            "Collecting django\n",
            "  Downloading Django-3.2.12-py3-none-any.whl (7.9 MB)\n",
            "\u001b[K     |████████████████████████████████| 7.9 MB 5.2 MB/s \n",
            "\u001b[?25hRequirement already satisfied: six in /usr/local/lib/python3.7/dist-packages (from image) (1.15.0)\n",
            "Requirement already satisfied: sqlparse>=0.2.2 in /usr/local/lib/python3.7/dist-packages (from django->image) (0.4.2)\n",
            "Requirement already satisfied: pytz in /usr/local/lib/python3.7/dist-packages (from django->image) (2018.9)\n",
            "Collecting asgiref<4,>=3.3.2\n",
            "  Downloading asgiref-3.5.0-py3-none-any.whl (22 kB)\n",
            "Requirement already satisfied: typing-extensions in /usr/local/lib/python3.7/dist-packages (from asgiref<4,>=3.3.2->django->image) (3.10.0.2)\n",
            "Building wheels for collected packages: image\n",
            "  Building wheel for image (setup.py) ... \u001b[?25l\u001b[?25hdone\n",
            "  Created wheel for image: filename=image-1.5.33-py2.py3-none-any.whl size=19496 sha256=409b6dc0e686888ef8802ed613a19cc44cb1e41550d9e9465c4dc83e0db67a08\n",
            "  Stored in directory: /root/.cache/pip/wheels/56/88/e6/897194cfe8c08a8b9afd881d3bf53d102e13fa39607d721383\n",
            "Successfully built image\n",
            "Installing collected packages: asgiref, django, image\n",
            "Successfully installed asgiref-3.5.0 django-3.2.12 image-1.5.33\n",
            "Requirement already satisfied: wheel in /usr/local/lib/python3.7/dist-packages (0.37.1)\n"
          ]
        }
      ]
    },
    {
      "cell_type": "markdown",
      "metadata": {
        "id": "Mj3oX5WEkM8P"
      },
      "source": [
        "## 1. GPU-accelerated Tensor Library\n",
        "\n",
        "A Tensor is a multi-dimensional array (matrix)."
      ]
    },
    {
      "cell_type": "code",
      "metadata": {
        "id": "dPdEDFjyf94_"
      },
      "source": [
        "import torch"
      ],
      "execution_count": null,
      "outputs": []
    },
    {
      "cell_type": "code",
      "metadata": {
        "id": "3cVfJH3PgvCE"
      },
      "source": [
        "# Create a 3x5 matrix filled with zeros\n",
        "\n",
        "x = torch.zeros(3, 5)\n",
        "print(x)"
      ],
      "execution_count": null,
      "outputs": []
    },
    {
      "cell_type": "code",
      "metadata": {
        "id": "qauqxYzmgQBO"
      },
      "source": [
        "# Create a 3x5 matrix filled with random values\n",
        "\n",
        "y = torch.randn(3, 5)\n",
        "print(y)"
      ],
      "execution_count": null,
      "outputs": []
    },
    {
      "cell_type": "code",
      "metadata": {
        "id": "pUS9LmmF58gI"
      },
      "source": [
        "# Shape manipulations\n",
        "\n",
        "print('\\n.t()  (transpose): ')\n",
        "print(y.t())\n",
        "\n",
        "print('.reshape(5, 3): ')\n",
        "print(y.reshape(5, 3))\n",
        "\n",
        "# Heads up: there might be memory considerations in using .view() vs .reshape()\n",
        "# you can see the discussion https://discuss.pytorch.org/t/difference-between-view-reshape-and-permute/54157 \n",
        "# for more details"
      ],
      "execution_count": null,
      "outputs": []
    },
    {
      "cell_type": "code",
      "metadata": {
        "colab": {
          "base_uri": "https://localhost:8080/"
        },
        "id": "m-qEF8if6VkQ",
        "outputId": "fedf81c8-4cdf-486d-fc93-23c98d6a8407"
      },
      "source": [
        "# Slicing\n",
        "print(y[1:])\n",
        "\n",
        "# Slicing + select every two elements\n",
        "print(y[1:, ::2])"
      ],
      "execution_count": null,
      "outputs": [
        {
          "output_type": "stream",
          "text": [
            "tensor([[-0.4917, -0.5725,  0.2043,  0.6340, -1.5252],\n",
            "        [-0.9198,  0.9469,  0.0128, -0.7640, -0.6269]])\n",
            "tensor([[-0.4917,  0.2043, -1.5252],\n",
            "        [-0.9198,  0.0128, -0.6269]])\n"
          ],
          "name": "stdout"
        }
      ]
    },
    {
      "cell_type": "code",
      "metadata": {
        "colab": {
          "base_uri": "https://localhost:8080/"
        },
        "id": "PGpFKCBEgbJe",
        "outputId": "53fb8c62-c9cf-4442-f209-8a46a655197a"
      },
      "source": [
        "# Basic arithmetic\n",
        "\n",
        "print(x + 2)"
      ],
      "execution_count": null,
      "outputs": [
        {
          "output_type": "stream",
          "text": [
            "tensor([[2., 2., 2., 2., 2.],\n",
            "        [2., 2., 2., 2., 2.],\n",
            "        [2., 2., 2., 2., 2.]])\n"
          ],
          "name": "stdout"
        }
      ]
    },
    {
      "cell_type": "code",
      "metadata": {
        "colab": {
          "base_uri": "https://localhost:8080/"
        },
        "id": "gvoZaG8NkbHx",
        "outputId": "f25faac2-46a4-4aff-f915-193bc570b7f3"
      },
      "source": [
        "print(y * (x + 2))"
      ],
      "execution_count": null,
      "outputs": [
        {
          "output_type": "stream",
          "text": [
            "tensor([[ 1.8846,  1.6979,  2.4043,  0.1968,  1.9089],\n",
            "        [-0.9835, -1.1450,  0.4087,  1.2681, -3.0505],\n",
            "        [-1.8397,  1.8937,  0.0257, -1.5280, -1.2538]])\n"
          ],
          "name": "stdout"
        }
      ]
    },
    {
      "cell_type": "code",
      "metadata": {
        "colab": {
          "base_uri": "https://localhost:8080/"
        },
        "id": "Zktd6b7wkgF2",
        "outputId": "e9c04524-752c-47db-a5ff-6f1bfa8c7872"
      },
      "source": [
        "print((y * (x + 2)).exp())"
      ],
      "execution_count": null,
      "outputs": [
        {
          "output_type": "stream",
          "text": [
            "tensor([[ 6.5836,  5.4626, 11.0711,  1.2175,  6.7458],\n",
            "        [ 0.3740,  0.3182,  1.5048,  3.5541,  0.0473],\n",
            "        [ 0.1589,  6.6441,  1.0260,  0.2170,  0.2854]])\n"
          ],
          "name": "stdout"
        }
      ]
    },
    {
      "cell_type": "markdown",
      "metadata": {
        "id": "n2dhiDLzkyQF"
      },
      "source": [
        "#### 1.1 GPU Acceleration\n",
        "\n",
        "Everything can be run on a GPU\n",
        "\n",
        "First, let us create a [`torch.device`](https://pytorch.org/docs/stable/tensor_attributes.html#torch-device) object representing a GPU device."
      ]
    },
    {
      "cell_type": "code",
      "metadata": {
        "id": "MPdqlb1CkmqQ"
      },
      "source": [
        "cuda0 = torch.device('cuda:0')  # pick the GPU at index 0"
      ],
      "execution_count": null,
      "outputs": []
    },
    {
      "cell_type": "code",
      "metadata": {
        "colab": {
          "base_uri": "https://localhost:8080/"
        },
        "id": "JTUbNmkAVr-a",
        "outputId": "2674a678-a930-4c43-b2cd-72e48e66d27f"
      },
      "source": [
        "y"
      ],
      "execution_count": null,
      "outputs": [
        {
          "output_type": "execute_result",
          "data": {
            "text/plain": [
              "tensor([[ 0.9423,  0.8490,  1.2022,  0.0984,  0.9545],\n",
              "        [-0.4917, -0.5725,  0.2043,  0.6340, -1.5252],\n",
              "        [-0.9198,  0.9469,  0.0128, -0.7640, -0.6269]])"
            ]
          },
          "metadata": {
            "tags": []
          },
          "execution_count": 11
        }
      ]
    },
    {
      "cell_type": "code",
      "metadata": {
        "colab": {
          "base_uri": "https://localhost:8080/"
        },
        "id": "LCYhVhc-lE7N",
        "outputId": "f7d35f1c-214e-4532-851f-769774e053f7"
      },
      "source": [
        "# Move a tensor from CPU to GPU\n",
        "# NOTE: the first time you access a GPU, a context is created so this may take a\n",
        "# few seconds. But subsequent uses will be fast.\n",
        "\n",
        "cuda_y = y.to(cuda0)\n",
        "print(cuda_y)"
      ],
      "execution_count": null,
      "outputs": [
        {
          "output_type": "stream",
          "text": [
            "tensor([[ 0.9423,  0.8490,  1.2022,  0.0984,  0.9545],\n",
            "        [-0.4917, -0.5725,  0.2043,  0.6340, -1.5252],\n",
            "        [-0.9198,  0.9469,  0.0128, -0.7640, -0.6269]], device='cuda:0')\n"
          ],
          "name": "stdout"
        }
      ]
    },
    {
      "cell_type": "code",
      "metadata": {
        "colab": {
          "base_uri": "https://localhost:8080/"
        },
        "id": "QhhaWnPvlQ0F",
        "outputId": "06f4e661-9204-4511-ba12-e76d25481a86"
      },
      "source": [
        "# Or directly creating a tensor on GPU\n",
        "\n",
        "cuda_x = torch.zeros(3, 5, device=cuda0)\n",
        "print(cuda_x)"
      ],
      "execution_count": null,
      "outputs": [
        {
          "output_type": "stream",
          "text": [
            "tensor([[0., 0., 0., 0., 0.],\n",
            "        [0., 0., 0., 0., 0.],\n",
            "        [0., 0., 0., 0., 0.]], device='cuda:0')\n"
          ],
          "name": "stdout"
        }
      ]
    },
    {
      "cell_type": "code",
      "metadata": {
        "colab": {
          "base_uri": "https://localhost:8080/"
        },
        "id": "QnaL5mNimjXo",
        "outputId": "96869efe-8b16-42c6-aaa9-aef8276bae8d"
      },
      "source": [
        "# All functions and methods work on GPU tensors\n",
        "\n",
        "print((cuda_y * (cuda_x + 2)).exp())  # values match the CPU results above!"
      ],
      "execution_count": null,
      "outputs": [
        {
          "output_type": "stream",
          "text": [
            "tensor([[ 6.5836,  5.4626, 11.0711,  1.2175,  6.7458],\n",
            "        [ 0.3740,  0.3182,  1.5048,  3.5541,  0.0473],\n",
            "        [ 0.1589,  6.6441,  1.0260,  0.2170,  0.2854]], device='cuda:0')\n"
          ],
          "name": "stdout"
        }
      ]
    },
    {
      "cell_type": "markdown",
      "metadata": {
        "id": "FJb9shauw6Bu"
      },
      "source": [
        "### 1.2 NumPy Bridge\n",
        "\n",
        "Converting a `torch.Tensor` to a `np.ndarray` and vice versa is a breeze.\n",
        "\n",
        "The `torch.Tensor` and `np.ndarray` will share their underlying memory locations (if the `torch.Tensor` is on CPU and `dtype` is the same), and changing one will change the other."
      ]
    },
    {
      "cell_type": "code",
      "metadata": {
        "id": "wjPmAYWIxeM3"
      },
      "source": [
        "import numpy as np"
      ],
      "execution_count": null,
      "outputs": []
    },
    {
      "cell_type": "code",
      "metadata": {
        "colab": {
          "base_uri": "https://localhost:8080/"
        },
        "id": "VHPeZwjPWwlx",
        "outputId": "965b825f-f449-4b4c-c960-fbda0800adce"
      },
      "source": [
        "\n",
        "x = torch.randn(5)\n",
        "print(x)"
      ],
      "execution_count": null,
      "outputs": [
        {
          "output_type": "stream",
          "text": [
            "tensor([ 1.2957,  0.1709,  0.4314, -1.1843, -0.7004])\n"
          ],
          "name": "stdout"
        }
      ]
    },
    {
      "cell_type": "code",
      "metadata": {
        "colab": {
          "base_uri": "https://localhost:8080/"
        },
        "id": "L1zJ0SnrW0En",
        "outputId": "0c66361f-08ef-414b-94c5-fbdcab4b92e5"
      },
      "source": [
        "\n",
        "x.numpy()"
      ],
      "execution_count": null,
      "outputs": [
        {
          "output_type": "execute_result",
          "data": {
            "text/plain": [
              "array([ 1.2956771,  0.1709385,  0.4314196, -1.1842686, -0.7003988],\n",
              "      dtype=float32)"
            ]
          },
          "metadata": {
            "tags": []
          },
          "execution_count": 17
        }
      ]
    },
    {
      "cell_type": "code",
      "metadata": {
        "colab": {
          "base_uri": "https://localhost:8080/"
        },
        "id": "Ho41TWYcw5xt",
        "outputId": "ff08fbd0-d637-4dde-ee0e-15b0ef8096c8"
      },
      "source": [
        "# Converting a tensor to an array\n",
        "\n",
        "x = torch.randn(5)\n",
        "print(x)\n",
        "\n",
        "# use `my_tensor.numpy()`\n",
        "x_np = x.numpy()\n",
        "print(x_np)\n",
        "\n",
        "# or `np.asarray`\n",
        "\n",
        "x_np = np.asarray(x)\n",
        "print(x_np)"
      ],
      "execution_count": null,
      "outputs": [
        {
          "output_type": "stream",
          "text": [
            "tensor([-0.3702, -1.0601, -0.8131,  0.5233,  0.5861])\n",
            "[-0.3702056  -1.0601125  -0.81313217  0.52326614  0.5860689 ]\n",
            "[-0.3702056  -1.0601125  -0.81313217  0.52326614  0.5860689 ]\n"
          ],
          "name": "stdout"
        }
      ]
    },
    {
      "cell_type": "code",
      "metadata": {
        "colab": {
          "base_uri": "https://localhost:8080/"
        },
        "id": "vqS8il2AxrAB",
        "outputId": "edabe1c8-32a2-4b43-eead-3ead60efa2d6"
      },
      "source": [
        "# in-place changes on one affects the other\n",
        "\n",
        "x[0] = -1\n",
        "print(x)\n",
        "print(x_np)"
      ],
      "execution_count": null,
      "outputs": [
        {
          "output_type": "stream",
          "text": [
            "tensor([-1.0000, -1.0601, -0.8131,  0.5233,  0.5861])\n",
            "[-1.         -1.0601125  -0.81313217  0.52326614  0.5860689 ]\n"
          ],
          "name": "stdout"
        }
      ]
    },
    {
      "cell_type": "code",
      "metadata": {
        "colab": {
          "base_uri": "https://localhost:8080/"
        },
        "id": "WfVwkxI8x5ks",
        "outputId": "173543df-f4b2-47b6-b866-01ad2b813f3e"
      },
      "source": [
        "# Converting an array to a tensor\n",
        "\n",
        "a = np.random.randn(3, 4)\n",
        "\n",
        "a_pt = torch.as_tensor(a)\n",
        "print(a_pt)"
      ],
      "execution_count": null,
      "outputs": [
        {
          "output_type": "stream",
          "text": [
            "tensor([[-0.0838,  1.1721, -0.3259, -0.8454],\n",
            "        [ 0.1099,  0.7884, -2.5333, -0.0500],\n",
            "        [ 1.2753, -1.4147, -0.1714, -1.7567]], dtype=torch.float64)\n"
          ],
          "name": "stdout"
        }
      ]
    },
    {
      "cell_type": "code",
      "metadata": {
        "colab": {
          "base_uri": "https://localhost:8080/"
        },
        "id": "6RmnP6Sayb19",
        "outputId": "64bdc23c-2165-4d41-e97d-5e718d5248a6"
      },
      "source": [
        "# the resulting CPU Tensor shares memory with the array!\n",
        "\n",
        "a_pt[0] = -1\n",
        "print(a)"
      ],
      "execution_count": null,
      "outputs": [
        {
          "output_type": "stream",
          "text": [
            "[[-1.         -1.         -1.         -1.        ]\n",
            " [ 0.10991108  0.78837753 -2.53334222 -0.05000192]\n",
            " [ 1.27527075 -1.41469584 -0.17142662 -1.75667704]]\n"
          ],
          "name": "stdout"
        }
      ]
    },
    {
      "cell_type": "code",
      "metadata": {
        "colab": {
          "base_uri": "https://localhost:8080/"
        },
        "id": "XaT4EeJ0yaGh",
        "outputId": "5d1b5522-83f2-4f5f-b892-49f7c6f5331a"
      },
      "source": [
        "# But if we change dtype or device, a copy is made\n",
        "\n",
        "a_half_pt = torch.as_tensor(a, dtype=torch.float16, device=cuda0)\n",
        "a_half_pt[0] = 9\n",
        "print(a_half_pt)\n",
        "\n",
        "print(a)  # original array is not affected"
      ],
      "execution_count": null,
      "outputs": [
        {
          "output_type": "stream",
          "text": [
            "tensor([[ 9.0000,  9.0000,  9.0000,  9.0000],\n",
            "        [ 0.1099,  0.7886, -2.5332, -0.0500],\n",
            "        [ 1.2754, -1.4150, -0.1714, -1.7568]], device='cuda:0',\n",
            "       dtype=torch.float16)\n",
            "[[-1.         -1.         -1.         -1.        ]\n",
            " [ 0.10991108  0.78837753 -2.53334222 -0.05000192]\n",
            " [ 1.27527075 -1.41469584 -0.17142662 -1.75667704]]\n"
          ],
          "name": "stdout"
        }
      ]
    },
    {
      "cell_type": "markdown",
      "metadata": {
        "id": "6Z6UZea7mzza"
      },
      "source": [
        "## 2. Differentiable Programming with Dynamic Computation Graphs\n",
        "\n",
        "Gradient-based optimization is an essential part of the modern deep learning frenzy. PyTorch uses [reverse-mode automatic differentiation](https://en.wikipedia.org/wiki/Automatic_differentiation) to efficiently compute gradients through any computations done on tensors."
      ]
    },
    {
      "cell_type": "markdown",
      "metadata": {
        "id": "d3M1k2eVJTHy"
      },
      "source": [
        "### Dynamic vs. Static\n",
        "\n",
        "A neural network is essentially a sequence of mathematical operations on tensors, which build up a computation graph.\n",
        "\n",
        "Most frameworks such as TensorFlow, Theano, Caffe and CNTK have a static view of the world. One has to build a neural network, and reuse the same structure again and again. Changing the way the network behaves means that one has to start from scratch.\n",
        "\n",
        "PyTorch uses a technique called reverse-mode auto-differentiation, which allows you to change the way your network behaves arbitrarily with zero lag or overhead. \n"
      ]
    },
    {
      "cell_type": "markdown",
      "metadata": {
        "id": "3GEfWbBdJVAP"
      },
      "source": [
        "### Dynamic computation graphs\n",
        "\n",
        "When you create a tensor with its `requires_grad` flag set to `True`, the [`autograd`](https://pytorch.org/docs/stable/autograd.html) engine considers it as a **leaf** node of the computation graph. As you compute with it, the graph is dynamically expanded. When you ask for gradients (e.g., via `tensor.backward()`), the `autograd` engine traces backwards through the graph, and automatically computes the gradients for you.\n",
        "\n",
        "![alt text](https://github.com/pytorch/pytorch/raw/master/docs/source/_static/img/dynamic_graph.gif)\n"
      ]
    },
    {
      "cell_type": "markdown",
      "metadata": {
        "id": "-9oa0qkCJX3T"
      },
      "source": [
        "**Let's see this in action!**"
      ]
    },
    {
      "cell_type": "code",
      "metadata": {
        "colab": {
          "base_uri": "https://localhost:8080/"
        },
        "id": "Ktc74vsEmq-J",
        "outputId": "8c514b72-75c9-468d-b49a-d6d122b6640a"
      },
      "source": [
        "# Now, we want tensors with `requires_grad=True`\n",
        "\n",
        "a = torch.ones(3, 5, requires_grad=True)  # tensor of all ones\n",
        "print(a)  # notice that the `requires_grad` flag is on!"
      ],
      "execution_count": null,
      "outputs": [
        {
          "output_type": "stream",
          "text": [
            "tensor([[1., 1., 1., 1., 1.],\n",
            "        [1., 1., 1., 1., 1.],\n",
            "        [1., 1., 1., 1., 1.]], requires_grad=True)\n"
          ],
          "name": "stdout"
        }
      ]
    },
    {
      "cell_type": "code",
      "metadata": {
        "colab": {
          "base_uri": "https://localhost:8080/"
        },
        "id": "sz3hpPdnrD4v",
        "outputId": "b3f58f8e-1cb7-4fe7-f628-ca0640d976ff"
      },
      "source": [
        "# Currently `a` has no gradients\n",
        "\n",
        "print(a.grad)"
      ],
      "execution_count": null,
      "outputs": [
        {
          "output_type": "stream",
          "text": [
            "None\n"
          ],
          "name": "stdout"
        }
      ]
    },
    {
      "cell_type": "code",
      "metadata": {
        "colab": {
          "base_uri": "https://localhost:8080/"
        },
        "id": "muZKbhGWqLAi",
        "outputId": "febff98e-fe0a-4020-e3bf-94c4b1793a19"
      },
      "source": [
        "# Let's compute the gradient wrt the sum\n",
        "\n",
        "s = a.sum()\n",
        "print('sum of a is', s)"
      ],
      "execution_count": null,
      "outputs": [
        {
          "output_type": "stream",
          "text": [
            "sum of a is tensor(15., grad_fn=<SumBackward0>)\n"
          ],
          "name": "stdout"
        }
      ]
    },
    {
      "cell_type": "code",
      "metadata": {
        "colab": {
          "base_uri": "https://localhost:8080/"
        },
        "id": "4N5WmWHpqe_z",
        "outputId": "3ecd659f-2299-4553-8424-4cb5df261ec8"
      },
      "source": [
        "# Notice the `grad_fn` of `s`. it represents the function used to propagate \n",
        "# gradients from `s` to previous nodes of the graph (`a` in this case).\n",
        "\n",
        "s.backward()  # compute gradient!\n",
        "print(a.grad)"
      ],
      "execution_count": null,
      "outputs": [
        {
          "output_type": "stream",
          "text": [
            "tensor([[1., 1., 1., 1., 1.],\n",
            "        [1., 1., 1., 1., 1.],\n",
            "        [1., 1., 1., 1., 1.]])\n"
          ],
          "name": "stdout"
        }
      ]
    },
    {
      "cell_type": "code",
      "metadata": {
        "id": "R-09eMIzrAvc"
      },
      "source": [
        "# Yay! Indeed d \\sum_a / d a_ij = 1"
      ],
      "execution_count": null,
      "outputs": []
    },
    {
      "cell_type": "code",
      "metadata": {
        "colab": {
          "base_uri": "https://localhost:8080/"
        },
        "id": "1yZUx9OvrPNd",
        "outputId": "2d730c74-75f6-4f14-a9b7-c7bc19a8f83e"
      },
      "source": [
        "# Gradients are automatically **accumulated**\n",
        "\n",
        "a.sum().backward()\n",
        "print(a.grad)  # now the new gradients are added to the old ones\n",
        "\n",
        "# Don't worry, we have easy ways to clear the gradients too. \n",
        "# We will talk about those later!"
      ],
      "execution_count": null,
      "outputs": [
        {
          "output_type": "stream",
          "text": [
            "tensor([[2., 2., 2., 2., 2.],\n",
            "        [2., 2., 2., 2., 2.],\n",
            "        [2., 2., 2., 2., 2.]])\n"
          ],
          "name": "stdout"
        }
      ]
    },
    {
      "cell_type": "code",
      "metadata": {
        "colab": {
          "base_uri": "https://localhost:8080/"
        },
        "id": "xLTr_IOvnhQl",
        "outputId": "486d34d8-f2bf-46c6-d3a6-15e72be065c4"
      },
      "source": [
        "a.grad.zero_()"
      ],
      "execution_count": null,
      "outputs": [
        {
          "output_type": "execute_result",
          "data": {
            "text/plain": [
              "tensor([[0., 0., 0., 0., 0.],\n",
              "        [0., 0., 0., 0., 0.],\n",
              "        [0., 0., 0., 0., 0.]])"
            ]
          },
          "metadata": {
            "tags": []
          },
          "execution_count": 29
        }
      ]
    },
    {
      "cell_type": "code",
      "metadata": {
        "colab": {
          "base_uri": "https://localhost:8080/"
        },
        "id": "TFVA1MV2rapV",
        "outputId": "92beb987-23bd-4040-a4ab-e876c94f6910"
      },
      "source": [
        "# Now let's do something slightly fancier, on GPU!\n",
        "\n",
        "a = torch.ones(3, 4, device=cuda0, requires_grad=True)\n",
        "b = torch.randn(4, 4, device=cuda0, requires_grad=True)\n",
        "\n",
        "result = (torch.mm(a, b.t().exp()) * 0.5).sum() * b.prod() - b.mean()\n",
        "print('this complicated chain of operation gives....')\n",
        "print(result)"
      ],
      "execution_count": null,
      "outputs": [
        {
          "output_type": "stream",
          "text": [
            "this complicated chain of operation gives....\n",
            "tensor(-0.3538, device='cuda:0', grad_fn=<SubBackward0>)\n"
          ],
          "name": "stdout"
        }
      ]
    },
    {
      "cell_type": "code",
      "metadata": {
        "colab": {
          "base_uri": "https://localhost:8080/"
        },
        "id": "8jP56tn-fQyp",
        "outputId": "30fef73c-0aee-4fe7-f2d9-6e1551299537"
      },
      "source": [
        "result.backward()\n",
        "print('\\ngradient wrt a is')\n",
        "print(a.grad)\n",
        "print('\\ngradient wrt b is')\n",
        "print(b.grad)"
      ],
      "execution_count": null,
      "outputs": [
        {
          "output_type": "stream",
          "text": [
            "\n",
            "gradient wrt a is\n",
            "tensor([[0.0009, 0.0007, 0.0026, 0.0007],\n",
            "        [0.0009, 0.0007, 0.0026, 0.0007],\n",
            "        [0.0009, 0.0007, 0.0026, 0.0007]], device='cuda:0')\n",
            "\n",
            "gradient wrt b is\n",
            "tensor([[-0.0767, -0.1350, -0.0526, -0.0377],\n",
            "        [-0.0330,  0.0375, -0.1246, -0.0405],\n",
            "        [-0.0522, -0.0507, -0.0527,  0.1234],\n",
            "        [-0.0754, -0.0822, -0.0778,  0.0327]], device='cuda:0')\n"
          ],
          "name": "stdout"
        }
      ]
    },
    {
      "cell_type": "markdown",
      "source": [
        "#### Exercise: Compute gradients"
      ],
      "metadata": {
        "id": "c_Ut1o2EYjNg"
      }
    },
    {
      "cell_type": "code",
      "metadata": {
        "colab": {
          "base_uri": "https://localhost:8080/"
        },
        "id": "0IiMxcCYMApV",
        "outputId": "3d931f55-3678-48cc-b7c3-e81aaf9fa8f5"
      },
      "source": [
        "########################\n",
        "#                      #\n",
        "#       Exercise       #\n",
        "#                      #\n",
        "########################\n",
        "\n",
        "\n",
        "a = torch.linspace(-3, 3, 10, dtype=torch.float32, requires_grad=True)\n",
        "b = torch.logspace(0.2, 2, 10, requires_grad=True)\n",
        "\n",
        "\n",
        "# ANSWER\n",
        "z = torch.log( b.sum() / a.exp().sum()) - b.sum()\n",
        "print(z)\n",
        "\n",
        "z.backward()\n",
        "\n",
        "print(a.grad)\n",
        "print(b.grad)"
      ],
      "execution_count": null,
      "outputs": [
        {
          "output_type": "stream",
          "text": [
            "tensor(-266.3888, grad_fn=<SubBackward0>)\n",
            "tensor([-0.0012, -0.0024, -0.0046, -0.0089, -0.0174, -0.0339, -0.0659, -0.1284,\n",
            "        -0.2501, -0.4872])\n",
            "tensor([-0.9963, -0.9963, -0.9963, -0.9963, -0.9963, -0.9963, -0.9963, -0.9963,\n",
            "        -0.9963, -0.9963])\n"
          ],
          "name": "stdout"
        }
      ]
    },
    {
      "cell_type": "markdown",
      "metadata": {
        "id": "kGlmZlR-NNld"
      },
      "source": [
        "Compute \n",
        "\n",
        "$$z = \\log \\left( \\frac{1}{\\sum_i \\exp(a_i)} \\sum_j b_j \\right) - \\sum_k b_k,$$\n",
        "\n",
        "and then the gradients of $z$ w.r.t. $\\mathbf{a}$ and $\\mathbf{b}$.\n",
        "\n",
        "They should look like:\n",
        "\n",
        "```\n",
        "# Gradient wrt a\n",
        "tensor([-0.0012, -0.0024, -0.0046, -0.0089, -0.0174, -0.0339, -0.0659, -0.1284,\n",
        "        -0.2501, -0.4872])\n",
        "\n",
        "# Gradient wrt b\n",
        "tensor([-0.9963, -0.9963, -0.9963, -0.9963, -0.9963, -0.9963, -0.9963, -0.9963,\n",
        "        -0.9963, -0.9963])\n",
        "```"
      ]
    },
    {
      "cell_type": "markdown",
      "metadata": {
        "id": "oFNxvwP5u_bs"
      },
      "source": [
        "#### Manipulating the `requires_grad` flag"
      ]
    },
    {
      "cell_type": "code",
      "metadata": {
        "colab": {
          "base_uri": "https://localhost:8080/"
        },
        "id": "FKw8g1TNu5-t",
        "outputId": "bc8800a5-f7e5-45df-b99a-58881003a49e"
      },
      "source": [
        "# Other than directly setting it at creation time, you can change this flag \n",
        "# in-place using `my_tensor.requires_grad_()`, or, as in the above example, or\n",
        "# just directly setting the attribute.\n",
        "\n",
        "x = torch.randn(1, 4, 5)\n",
        "print(x)\n",
        "print('x does not track gradients')"
      ],
      "execution_count": null,
      "outputs": [
        {
          "output_type": "stream",
          "text": [
            "tensor([[[-0.1517, -0.0253, -0.2430,  0.0286,  0.2724],\n",
            "         [ 0.0670,  1.0555, -0.5847, -1.7841, -0.9471],\n",
            "         [ 2.0123,  0.2040, -1.0632,  1.3583, -1.1258],\n",
            "         [ 2.2399, -0.5928,  0.9187,  0.1019, -0.0120]]])\n",
            "x does not track gradients\n"
          ],
          "name": "stdout"
        }
      ]
    },
    {
      "cell_type": "code",
      "metadata": {
        "colab": {
          "base_uri": "https://localhost:8080/"
        },
        "id": "aJThUKldvPFN",
        "outputId": "cbc70708-6674-405a-b97a-875673d7c35d"
      },
      "source": [
        "x.requires_grad_()\n",
        "print(x)\n",
        "print('x now **does** track gradients')"
      ],
      "execution_count": null,
      "outputs": [
        {
          "output_type": "stream",
          "text": [
            "tensor([[[-0.1517, -0.0253, -0.2430,  0.0286,  0.2724],\n",
            "         [ 0.0670,  1.0555, -0.5847, -1.7841, -0.9471],\n",
            "         [ 2.0123,  0.2040, -1.0632,  1.3583, -1.1258],\n",
            "         [ 2.2399, -0.5928,  0.9187,  0.1019, -0.0120]]], requires_grad=True)\n",
            "x now **does** track gradients\n"
          ],
          "name": "stdout"
        }
      ]
    },
    {
      "cell_type": "markdown",
      "metadata": {
        "id": "EAvixGtnv459"
      },
      "source": [
        "## 3. Flexible and Efficient Neural Network Library"
      ]
    },
    {
      "cell_type": "markdown",
      "metadata": {
        "id": "Ni-h3bBGz0kf"
      },
      "source": [
        "The [`torch.nn`](https://pytorch.org/docs/stable/nn.html) and [`torch.optim`](https://pytorch.org/docs/stable/optim.html) packages provide many efficient implementations of neural network components:\n",
        "  + Affine layers and [activation functions](https://pytorch.org/docs/stable/nn.html#non-linear-activations-weighted-sum-nonlinearity)\n",
        "  + Normalization methods\n",
        "  + [Initialization schemes](https://pytorch.org/docs/stable/nn.html#torch-nn-init)\n",
        "  + [Loss functions](https://pytorch.org/docs/stable/nn.html#loss-functions)\n",
        "  + [Embeddings](https://pytorch.org/docs/stable/nn.html#sparse-layers)\n",
        "  + [Distributed and Multi-GPU training](https://pytorch.org/docs/stable/nn.html#dataparallel-layers-multi-gpu-distributed)\n",
        "  + [Gradient-based optimizers](https://pytorch.org/docs/stable/optim.html)\n",
        "  + [Learning rate schedulers](https://pytorch.org/docs/stable/optim.html#how-to-adjust-learning-rate)\n",
        "  + etc."
      ]
    },
    {
      "cell_type": "code",
      "metadata": {
        "id": "4XWfNgtI0NE0"
      },
      "source": [
        "import torch.nn as nn\n",
        "import torch.nn.functional as F"
      ],
      "execution_count": null,
      "outputs": []
    },
    {
      "cell_type": "markdown",
      "metadata": {
        "id": "YyMj2K002oz8"
      },
      "source": [
        "#### `torch.nn` Layers\n",
        "\n",
        "We will use the [fully connected linear layer (`nn.Linear`)](https://pytorch.org/docs/stable/nn.html#torch.nn.Linear) as an example. \n",
        "\n",
        "A fc layer performs an affine transform with a 2D weight parameter $\\mathbf{w}$ and a 1D bias parameter $\\mathbf{b}$:\n",
        "\n",
        "$$ f(\\mathbf{x}) = \\mathbf{w}^\\mathrm{T} \\mathbf{x} + \\mathbf{b}.$$"
      ]
    },
    {
      "cell_type": "code",
      "metadata": {
        "colab": {
          "base_uri": "https://localhost:8080/"
        },
        "id": "DpkSxb3UvZYF",
        "outputId": "5c468b44-5090-4f3b-bea9-259992502951"
      },
      "source": [
        "fc = nn.Linear(in_features=8, out_features=8)\n",
        "print(fc)"
      ],
      "execution_count": null,
      "outputs": [
        {
          "output_type": "stream",
          "text": [
            "Linear(in_features=8, out_features=8, bias=True)\n"
          ],
          "name": "stdout"
        }
      ]
    },
    {
      "cell_type": "code",
      "metadata": {
        "colab": {
          "base_uri": "https://localhost:8080/"
        },
        "id": "MRYaIS5vzyoF",
        "outputId": "ffcd42e0-3bd2-4caa-9abe-07f0d3a3893f"
      },
      "source": [
        "# It has two parameters, the weight and the bias\n",
        "\n",
        "for name, p in fc.named_parameters():\n",
        "    print('param name: {}\\t shape: {}'.format(name, p.shape))"
      ],
      "execution_count": null,
      "outputs": [
        {
          "output_type": "stream",
          "text": [
            "param name: weight\t shape: torch.Size([8, 8])\n",
            "param name: bias\t shape: torch.Size([8])\n"
          ],
          "name": "stdout"
        }
      ]
    },
    {
      "cell_type": "code",
      "metadata": {
        "colab": {
          "base_uri": "https://localhost:8080/"
        },
        "id": "mKNxg_ggfaCN",
        "outputId": "29e7f9ff-3691-4311-ee95-42c15362f740"
      },
      "source": [
        "fc.weight"
      ],
      "execution_count": null,
      "outputs": [
        {
          "output_type": "execute_result",
          "data": {
            "text/plain": [
              "Parameter containing:\n",
              "tensor([[ 0.3352, -0.1809, -0.2359, -0.0127,  0.1868, -0.3139, -0.1571,  0.3523],\n",
              "        [-0.1351,  0.0382, -0.2556,  0.2438,  0.2143, -0.2987, -0.2316,  0.1138],\n",
              "        [ 0.0481, -0.2589, -0.2268, -0.2551,  0.0900, -0.0735, -0.1564,  0.3280],\n",
              "        [ 0.0181,  0.1072, -0.2556,  0.3421,  0.3177, -0.1724,  0.3432, -0.2044],\n",
              "        [-0.2425,  0.2764,  0.2884, -0.2826,  0.1685, -0.0102,  0.3057,  0.0075],\n",
              "        [ 0.0730, -0.0641,  0.1214,  0.2345,  0.1060,  0.1890,  0.1066, -0.1952],\n",
              "        [-0.1976,  0.3406, -0.3475,  0.3264,  0.2583, -0.2507,  0.3286,  0.2909],\n",
              "        [-0.3518,  0.0172, -0.1846, -0.0706, -0.2909,  0.3105, -0.1665,  0.2372]],\n",
              "       requires_grad=True)"
            ]
          },
          "metadata": {
            "tags": []
          },
          "execution_count": 38
        }
      ]
    },
    {
      "cell_type": "code",
      "metadata": {
        "colab": {
          "base_uri": "https://localhost:8080/"
        },
        "id": "KgGxaH8P0k6d",
        "outputId": "9e77a810-46e9-4657-a03a-1fea27a36b2f"
      },
      "source": [
        "# These parameters by default have `requires_grad=True`, so they will collect gradients!\n",
        "\n",
        "print(fc.bias)"
      ],
      "execution_count": null,
      "outputs": [
        {
          "output_type": "stream",
          "text": [
            "Parameter containing:\n",
            "tensor([ 0.2998,  0.3437,  0.3377,  0.1592, -0.2516,  0.0282,  0.2422,  0.0932],\n",
            "       requires_grad=True)\n"
          ],
          "name": "stdout"
        }
      ]
    },
    {
      "cell_type": "code",
      "metadata": {
        "id": "21nZqKk009u2"
      },
      "source": [
        "# Let's construct an input tensor with 2 dimensions:\n",
        "#   - batch dimension of size 64\n",
        "#   - 8 features\n",
        "\n",
        "x = torch.randn(64, 8)"
      ],
      "execution_count": null,
      "outputs": []
    },
    {
      "cell_type": "code",
      "metadata": {
        "colab": {
          "base_uri": "https://localhost:8080/"
        },
        "id": "JR0uDfsI1Ybq",
        "outputId": "4d607fe5-7b4a-4036-de45-e1a8bc657189"
      },
      "source": [
        "# Pass it through the fc layer\n",
        "\n",
        "result = fc(x)\n",
        "print(result.shape)\n",
        "\n",
        "# Why does the `result` have shape [64, 8]?\n",
        "#   - batch dimension of size 64\n",
        "#   - 8 output features"
      ],
      "execution_count": null,
      "outputs": [
        {
          "output_type": "stream",
          "text": [
            "torch.Size([64, 8])\n"
          ],
          "name": "stdout"
        }
      ]
    },
    {
      "cell_type": "code",
      "metadata": {
        "colab": {
          "base_uri": "https://localhost:8080/"
        },
        "id": "OKyBTXGE1sQf",
        "outputId": "a2576985-0c9c-4e23-c661-3b473730a881"
      },
      "source": [
        "# Even though the input `x` has `requires_grad=False`, the convolution\n",
        "# weight and bias parameters has `requires_grad=True`. So the result also\n",
        "# requires gradient, with a `grad_fn` to compute backward pass for \n",
        "# convolutions.\n",
        "print(result.requires_grad)\n",
        "print(result.grad_fn)  # It says `AddmmBackward` because the fc layer performs a matmul and an addition"
      ],
      "execution_count": null,
      "outputs": [
        {
          "output_type": "stream",
          "text": [
            "True\n",
            "<AddmmBackward object at 0x7fc8bffd1b90>\n"
          ],
          "name": "stdout"
        }
      ]
    },
    {
      "cell_type": "code",
      "metadata": {
        "id": "6_o_34C-4wdo"
      },
      "source": [
        "# Say (arbitrarily) we want the layer to behave like the cosine function (yes I know it is impossible)\n",
        "\n",
        "target = x.cos()"
      ],
      "execution_count": null,
      "outputs": []
    },
    {
      "cell_type": "code",
      "metadata": {
        "colab": {
          "base_uri": "https://localhost:8080/"
        },
        "id": "HBh0R7zV7TZK",
        "outputId": "b7aa44c7-1be2-4793-9d61-4d68f02bd4f7"
      },
      "source": [
        "# Let's try MSE loss\n",
        "\n",
        "loss = F.mse_loss(result, target)\n",
        "print(loss)"
      ],
      "execution_count": null,
      "outputs": [
        {
          "output_type": "stream",
          "text": [
            "tensor(0.8269, grad_fn=<MseLossBackward>)\n"
          ],
          "name": "stdout"
        }
      ]
    },
    {
      "cell_type": "code",
      "metadata": {
        "colab": {
          "base_uri": "https://localhost:8080/"
        },
        "id": "0HBUX4To7Zie",
        "outputId": "17d388f9-b887-4dbd-f0e4-011a6a98fa02"
      },
      "source": [
        "# Compute gradients\n",
        "\n",
        "loss.backward()\n",
        "print(fc.bias.grad)"
      ],
      "execution_count": null,
      "outputs": [
        {
          "output_type": "stream",
          "text": [
            "tensor([-0.0287, -0.0415, -0.0476, -0.0800, -0.2196, -0.1437, -0.0884, -0.1523])\n"
          ],
          "name": "stdout"
        }
      ]
    },
    {
      "cell_type": "code",
      "metadata": {
        "colab": {
          "base_uri": "https://localhost:8080/"
        },
        "id": "5RXQNbrf7jy9",
        "outputId": "95ed13e3-5800-4c1b-b279-d82ecb6026b1"
      },
      "source": [
        "# We can manually perform GD via a loop\n",
        "\n",
        "print('bias before GD', fc.bias)\n",
        "\n",
        "lr = 0.5\n",
        "with torch.no_grad():  \n",
        "    # this context manager tells PyTorch that we don't want ops inside to be \n",
        "    # tracked by autograd!\n",
        "    for p in fc.parameters():\n",
        "        p -= lr * p.grad\n",
        "        \n",
        "print('bias after GD', fc.bias)"
      ],
      "execution_count": null,
      "outputs": [
        {
          "output_type": "stream",
          "text": [
            "bias before GD Parameter containing:\n",
            "tensor([ 0.2998,  0.3437,  0.3377,  0.1592, -0.2516,  0.0282,  0.2422,  0.0932],\n",
            "       requires_grad=True)\n",
            "bias after GD Parameter containing:\n",
            "tensor([ 0.3141,  0.3645,  0.3615,  0.1992, -0.1418,  0.1000,  0.2864,  0.1694],\n",
            "       requires_grad=True)\n"
          ],
          "name": "stdout"
        }
      ]
    },
    {
      "cell_type": "markdown",
      "metadata": {
        "id": "OZq4QtJ8F5v4"
      },
      "source": [
        "#### `torch.optim` optimizers\n",
        "\n",
        "More easily, we can use the provided [`torch.optim`](https://pytorch.org/docs/stable/optim.html#torch.optim) optimizers. Let's use the [`torch.optim.SGD`](https://pytorch.org/docs/stable/optim.html#torch.optim.SGD) optimizer for example!"
      ]
    },
    {
      "cell_type": "code",
      "metadata": {
        "id": "izmy6Kr3HWEE"
      },
      "source": [
        "# Let's optimize for 5000 iterations\n",
        "\n",
        "# First, put the layer on GPU so things run faster\n",
        "\n",
        "fc = fc.to(cuda0)"
      ],
      "execution_count": null,
      "outputs": []
    },
    {
      "cell_type": "code",
      "metadata": {
        "id": "iifUdPqu8E-T"
      },
      "source": [
        "# Construct an optimizer\n",
        "\n",
        "optim = torch.optim.SGD(fc.parameters(), lr=0.1)"
      ],
      "execution_count": null,
      "outputs": []
    },
    {
      "cell_type": "code",
      "metadata": {
        "colab": {
          "base_uri": "https://localhost:8080/"
        },
        "id": "XZoO55hiHMrV",
        "outputId": "6bf3493b-0fe9-408f-af87-f0a12a7b7c5d"
      },
      "source": [
        "# training loop\n",
        "\n",
        "batch_size = 256\n",
        "\n",
        "for ii in range(5000):\n",
        "    # clear gradients accumulated on the parameters\n",
        "    optim.zero_grad()\n",
        "    \n",
        "    # get an input (say we only care inputs sampled from N(0, I))\n",
        "    x = torch.randn(batch_size, 8, device=cuda0)  # this has to be on GPU too\n",
        "    \n",
        "    # target is the cos(x)\n",
        "    target = x.cos()\n",
        "    \n",
        "    # forward pass\n",
        "    result = fc(x)\n",
        "    \n",
        "    # compute loss\n",
        "    loss = F.mse_loss(result, target)\n",
        "    \n",
        "    # compute gradients\n",
        "    loss.backward()\n",
        "    \n",
        "    # let the optimizer do its work; the parameters will be updated in this call\n",
        "    optim.step()\n",
        "    \n",
        "    # add some printing\n",
        "    if ii % 500 == 0:\n",
        "        print('iteration {}\\tloss {:.5f}'.format(ii, loss))\n"
      ],
      "execution_count": null,
      "outputs": [
        {
          "output_type": "stream",
          "text": [
            "iteration 0\tloss 0.70493\n",
            "iteration 500\tloss 0.19953\n",
            "iteration 1000\tloss 0.19317\n",
            "iteration 1500\tloss 0.19427\n",
            "iteration 2000\tloss 0.20497\n",
            "iteration 2500\tloss 0.20776\n",
            "iteration 3000\tloss 0.19877\n",
            "iteration 3500\tloss 0.19058\n",
            "iteration 4000\tloss 0.21169\n",
            "iteration 4500\tloss 0.20406\n"
          ],
          "name": "stdout"
        }
      ]
    },
    {
      "cell_type": "markdown",
      "metadata": {
        "id": "CQGaMCr8Isrg"
      },
      "source": [
        "### Building Deep Neural Neworks\n",
        "\n",
        "A single `nn.Linear` layer didn't do very well! The MSE loss above is still pretty large.\n",
        "\n",
        "But this is expected as it is simply a linear transformation and thus has limited expressive power. Let's replace it with a deep network and see out it works!\n",
        "\n",
        "For simplicity, we will use the following feedforward network architecture (from top to bottom):\n",
        "\n",
        "```\n",
        "        [Input]\n",
        "           ||\n",
        "[Fully-Connected 8 -> 32]\n",
        "           ||\n",
        "    [ReLU activation]\n",
        "           ||\n",
        "[Fully-Connected 32 -> 32]\n",
        "           ||\n",
        "    [ReLU activation]\n",
        "           ||\n",
        "[Fully-Connected 32 -> 8]\n",
        "           ||\n",
        "        [Output]\n",
        "```"
      ]
    },
    {
      "cell_type": "markdown",
      "metadata": {
        "id": "YVzkaIlsLYJT"
      },
      "source": [
        "In PyTorch, a model is represented by a [`nn.Module`](https://pytorch.org/docs/stable/nn.html#torch.nn.Module) object. The `nn.Linear` layer we looked at above is also an instance of it:"
      ]
    },
    {
      "cell_type": "code",
      "metadata": {
        "id": "XsJ7nLvAHfyq"
      },
      "source": [
        "assert isinstance(nn.Linear(8, 8), nn.Module)"
      ],
      "execution_count": null,
      "outputs": []
    },
    {
      "cell_type": "markdown",
      "metadata": {
        "id": "jztyotM2Lut9"
      },
      "source": [
        "Now we want to build a deep network, we can compose the needed layers together by writing a custom `nn.Module` ourselves."
      ]
    },
    {
      "cell_type": "code",
      "metadata": {
        "id": "Ny8gXGpfLpNz"
      },
      "source": [
        "class MyNet(nn.Module):  # subclass nn.Module\n",
        "    def __init__(self):\n",
        "        super(MyNet, self).__init__()\n",
        "        \n",
        "        # We need 3 fully-connected layers!\n",
        "        # Simply assigning them as attributes will\n",
        "        # make sure that PyTorch keeps track of them.\n",
        "        \n",
        "        # 8 => 32\n",
        "        self.fc1 = nn.Linear(8, 32)\n",
        "        # 32 => 32\n",
        "        self.fc2 = nn.Linear(32, 32)\n",
        "        # 32 => 8\n",
        "        self.fc3 = nn.Linear(32, 8)\n",
        "        \n",
        "        \n",
        "    # We also need to define a `forward()` method that details\n",
        "    # what should happen when this module is used.\n",
        "    def forward(self, x):\n",
        "        x = self.fc1(x)\n",
        "        x = x.relu()\n",
        "        x = self.fc2(x)\n",
        "        x = x.relu()\n",
        "        return self.fc3(x)"
      ],
      "execution_count": null,
      "outputs": []
    },
    {
      "cell_type": "code",
      "metadata": {
        "id": "yuZM4_jeMqsk"
      },
      "source": [
        "# Okay! Now we are ready to use this deep network! \n",
        "\n",
        "# Construct a network and move to GPU\n",
        "net = MyNet().to(cuda0)\n",
        "\n",
        "# Construct an optimizer\n",
        "optim = torch.optim.SGD(net.parameters(), lr=0.1)"
      ],
      "execution_count": null,
      "outputs": []
    },
    {
      "cell_type": "code",
      "metadata": {
        "colab": {
          "base_uri": "https://localhost:8080/"
        },
        "id": "cVt8N16MMtxZ",
        "outputId": "8f7cc2a0-5fa8-498d-9b1a-afd0c5d0dcb1"
      },
      "source": [
        "# The same training loop, but now using a deep network!\n",
        "\n",
        "batch_size = 256\n",
        "\n",
        "for ii in range(5000):\n",
        "    # clear gradients accumulated on the parameters\n",
        "    optim.zero_grad()\n",
        "    \n",
        "    # get an input (say we only care inputs sampled from N(0, I))\n",
        "    x = torch.randn(batch_size, 8, device=cuda0)  # this has to be on GPU too\n",
        "    \n",
        "    # target is the cos(x)\n",
        "    target = x.cos()\n",
        "    \n",
        "    # forward pass\n",
        "    result = net(x)  # CHANGED: fc => net\n",
        "    \n",
        "    # compute loss\n",
        "    loss = F.mse_loss(result, target)\n",
        "    \n",
        "    # compute gradients\n",
        "    loss.backward()\n",
        "    \n",
        "    # let the optimizer do its work; the parameters will be updated in this call\n",
        "    optim.step()\n",
        "    \n",
        "    # add some printing\n",
        "    if ii % 500 == 0:\n",
        "        print('iteration {}\\tloss {:.5f}'.format(ii, loss))\n"
      ],
      "execution_count": null,
      "outputs": [
        {
          "output_type": "stream",
          "text": [
            "iteration 0\tloss 0.63074\n",
            "iteration 500\tloss 0.16067\n",
            "iteration 1000\tloss 0.08402\n",
            "iteration 1500\tloss 0.03476\n",
            "iteration 2000\tloss 0.01531\n",
            "iteration 2500\tloss 0.01088\n",
            "iteration 3000\tloss 0.00906\n",
            "iteration 3500\tloss 0.00722\n",
            "iteration 4000\tloss 0.00606\n",
            "iteration 4500\tloss 0.00601\n"
          ],
          "name": "stdout"
        }
      ]
    },
    {
      "cell_type": "markdown",
      "metadata": {
        "id": "hsdcbnOQPbhL"
      },
      "source": [
        "The network did so much better than a single fully-connected layer!"
      ]
    },
    {
      "cell_type": "markdown",
      "metadata": {
        "id": "Ggjwhxk_afWf"
      },
      "source": [
        "#### More `nn.*` Layers\n",
        "\n",
        "There are many other layers provided in the `nn.*` package. To list a few, we have\n",
        "+ Convolutions: e.g., [`nn.Conv2d`](https://pytorch.org/docs/stable/nn.html#torch.nn.Conv2d)\n",
        "+ Normalizations: e.g., [`nn.BatchNorm2d`](https://pytorch.org/docs/stable/nn.html#torch.nn.BatchNorm2d)\n",
        "+ Activation functions: e.g., [`nn.ReLU`](https://pytorch.org/docs/stable/nn.html#torch.nn.ReLU)\n",
        "+ etc."
      ]
    },
    {
      "cell_type": "code",
      "metadata": {
        "id": "KE2k_yV6cp6-"
      },
      "source": [
        "# A conv 2d layer with 4x4 filters, mapping inputs with 3 channels to outputs with 5 channels\n",
        "\n",
        "conv = nn.Conv2d(in_channels=3, out_channels=5, kernel_size=4)"
      ],
      "execution_count": null,
      "outputs": []
    },
    {
      "cell_type": "code",
      "metadata": {
        "colab": {
          "base_uri": "https://localhost:8080/"
        },
        "id": "tvCPf3wCdTCc",
        "outputId": "0190165e-f6be-4ec9-eb75-c02a2f98e4bf"
      },
      "source": [
        "# It also has two parameters, the weight and the bias\n",
        "\n",
        "for name, p in conv.named_parameters():\n",
        "    print('param name: {}\\t shape: {}'.format(name, p.shape))\n",
        "    \n",
        "# Why does the weight have shape [5, 3, 4, 4]? "
      ],
      "execution_count": null,
      "outputs": [
        {
          "output_type": "stream",
          "text": [
            "param name: weight\t shape: torch.Size([5, 3, 4, 4])\n",
            "param name: bias\t shape: torch.Size([5])\n"
          ],
          "name": "stdout"
        }
      ]
    },
    {
      "cell_type": "markdown",
      "metadata": {
        "id": "u0b8bbC2Yrrx"
      },
      "source": [
        "#### `nn.Module` Containers\n",
        "\n",
        "`torch.nn` also provides many other [`nn.Module` containers](https://pytorch.org/docs/stable/nn.html#containers) for easily building complex networks. E.g., [`nn.Sequential`](https://pytorch.org/docs/stable/nn.html#torch.nn.Sequential) executes a list of submodules sequentially, passing each output to the next's input. \n",
        "\n",
        "Using `nn.Sequential`, the above network can be equivalently written as:"
      ]
    },
    {
      "cell_type": "code",
      "metadata": {
        "id": "PNUcQt93ZY9A"
      },
      "source": [
        "net = nn.Sequential(\n",
        "    nn.Linear(8, 32),\n",
        "    nn.ReLU(),               # This nn.Module does the ReLU activation on its input\n",
        "    nn.Linear(32, 32),\n",
        "    nn.ReLU(),\n",
        "    nn.Linear(32, 8),\n",
        ").to(cuda0)"
      ],
      "execution_count": null,
      "outputs": []
    },
    {
      "cell_type": "markdown",
      "source": [
        "### Exercise: Build your own deeper net"
      ],
      "metadata": {
        "id": "NCzbAQShcfoV"
      }
    },
    {
      "cell_type": "code",
      "metadata": {
        "id": "oye4XrPeQR2l"
      },
      "source": [
        "########################\n",
        "#                      #\n",
        "#       Exercise       #\n",
        "#                      #\n",
        "########################"
      ],
      "execution_count": null,
      "outputs": []
    },
    {
      "cell_type": "markdown",
      "metadata": {
        "id": "ySx-KPEcQhmL"
      },
      "source": [
        "Perform the same regression task (i.e., modeling $f(x) = \\cos(x)$), but with the following modifications:\n",
        "\n",
        "+ Use one *more* hidden layer\n",
        "+ Each hidden layer should have size 128 neurons\n",
        "+ Use the `tanh` activation function (see [`my_tensor.tanh()`](https://pytorch.org/docs/stable/tensors.html#torch.Tensor.tanh))\n",
        "+ Use a batch size of 128\n",
        "+ Use the [`torch.optim.Adam`](https://pytorch.org/docs/stable/optim.html#torch.optim.Adam) optimizer\n",
        "+ Use the [L1 loss](https://pytorch.org/docs/stable/nn.html#torch.nn.functional.l1_loss) function"
      ]
    },
    {
      "cell_type": "code",
      "metadata": {
        "colab": {
          "base_uri": "https://localhost:8080/"
        },
        "id": "3hzs054WQURe",
        "outputId": "8b41f3fc-b35c-4ccc-c408-53df7ad3611b"
      },
      "source": [
        "# Answer\n",
        "class MyDeeperNet(nn.Module):\n",
        "    def __init__(self):\n",
        "        super(MyDeeperNet, self).__init__()\n",
        "        \n",
        "        # We need 4 fully-connected layers now! \n",
        "        # Each should have 128 neurons, except for the last one, which outputs vectors of size 8.\n",
        "        \n",
        "        self.fc1 = nn.Linear(8, 128)\n",
        "        self.fc2 = nn.Linear(128, 128)\n",
        "        self.fc3 = nn.Linear(128, 128)\n",
        "        self.fc4 = nn.Linear(128, 8)\n",
        "        \n",
        "        \n",
        "    def forward(self, x):\n",
        "        x = self.fc1(x)\n",
        "        x = x.tanh()\n",
        "        x = self.fc2(x)\n",
        "        x = x.tanh()\n",
        "        x = self.fc3(x)\n",
        "        x = x.tanh()\n",
        "        return self.fc4(x)\n",
        "        \n",
        "# Construct our new awesome deeper network and move to GPU\n",
        "deeper_net = MyDeeperNet().to(cuda0)\n",
        "\n",
        "# Alternative implementation:\n",
        "#\n",
        "# deeper_net = nn.Sequential(\n",
        "#     nn.Linear(8, 128),\n",
        "#     nn.Tanh(),\n",
        "#     nn.Linear(128, 128),\n",
        "#     nn.Tanh(),\n",
        "#     nn.Linear(128, 128),\n",
        "#     nn.Tanh(),\n",
        "#     nn.Linear(128, 8),\n",
        "# ).to(cuda0)\n",
        "\n",
        "# Construct an Adam optimizer\n",
        "deeper_net_optim = torch.optim.Adam(deeper_net.parameters(), lr=0.01)\n",
        "\n",
        "\n",
        "# Training loop\n",
        "\n",
        "batch_size = 128\n",
        "\n",
        "for ii in range(5000):\n",
        "    # clear gradients accumulated on the parameters\n",
        "    deeper_net_optim.zero_grad()\n",
        "    \n",
        "    # get an input (say we only care inputs sampled from N(0, I))\n",
        "    x = torch.randn(batch_size, 8, device=cuda0)  # this has to be on GPU too\n",
        "    \n",
        "    # target is the cos(x)\n",
        "    target = x.cos()\n",
        "    \n",
        "    # forward pass\n",
        "    result = deeper_net(x)\n",
        "    \n",
        "    # compute loss\n",
        "    loss = F.l1_loss(result, target)\n",
        "    \n",
        "    # compute gradients\n",
        "    loss.backward()\n",
        "    \n",
        "    # let the optimizer do its work; the parameters will be updated in this call\n",
        "    deeper_net_optim.step()\n",
        "    \n",
        "    # add some printing\n",
        "    if ii % 500 == 0:\n",
        "        print('iteration {}\\tloss {:.5f}'.format(ii, loss))\n"
      ],
      "execution_count": null,
      "outputs": [
        {
          "output_type": "stream",
          "text": [
            "iteration 0\tloss 0.71164\n",
            "iteration 500\tloss 0.06184\n",
            "iteration 1000\tloss 0.04621\n",
            "iteration 1500\tloss 0.04806\n",
            "iteration 2000\tloss 0.03137\n",
            "iteration 2500\tloss 0.03781\n",
            "iteration 3000\tloss 0.03769\n",
            "iteration 3500\tloss 0.03489\n",
            "iteration 4000\tloss 0.03227\n",
            "iteration 4500\tloss 0.03411\n"
          ],
          "name": "stdout"
        }
      ]
    },
    {
      "cell_type": "markdown",
      "metadata": {
        "id": "pDLP8DW9QTk0"
      },
      "source": [
        "## 4. (Practice) Building an MNIST Classifier\n",
        "\n",
        "\n",
        "Using what we have learned, let's build a simple MNIST digits classifier."
      ]
    },
    {
      "cell_type": "code",
      "metadata": {
        "id": "6Gu0ujK9QUJN"
      },
      "source": [
        "import torch\n",
        "import torch.nn as nn\n",
        "import torch.nn.functional as F\n",
        "\n",
        "\n",
        "torch.manual_seed(1234)  # for reproducibility\n",
        "\n",
        "cuda0 = torch.device('cuda:0')"
      ],
      "execution_count": null,
      "outputs": []
    },
    {
      "cell_type": "markdown",
      "metadata": {
        "id": "wPhLcpENQdtv"
      },
      "source": [
        "### Loading Data\n",
        "\n",
        "The [`torchvision`](https://pytorch.org/docs/stable/torchvision/index.html) library provides a wide range of standard vision datasets and networks with pretrained weights. We will use [the `torchvision.datasets.MNIST` class](https://pytorch.org/docs/stable/torchvision/datasets.html#mnist) to easily access the MNIST dataset. You can also [write your own custom datasets](https://pytorch.org/tutorials/beginner/data_loading_tutorial.html)."
      ]
    },
    {
      "cell_type": "code",
      "metadata": {
        "colab": {
          "base_uri": "https://localhost:8080/"
        },
        "id": "V6HGtONEQedI",
        "outputId": "8c10044c-1ce0-4b57-f7d7-5df57eb0c46b"
      },
      "source": [
        "import torchvision\n",
        "\n",
        "# # setup for stable downloading MNIST dataset\n",
        "# from six.moves import urllib\n",
        "# opener = urllib.request.build_opener()\n",
        "# opener.addheaders = [('User-agent', 'Mozilla/5.0')]\n",
        "# urllib.request.install_opener(opener)\n",
        "\n",
        "# # load MNIST dataset\n",
        "# mnist_train = torchvision.datasets.MNIST(root='./data', download=True, train=True)\n",
        "\n",
        "# download MNIST data\n",
        "!rm -rf data\n",
        "!git clone https://github.com/knamdar/data\n",
        "\n",
        "# load MNIST dataset\n",
        "mnist_train = torchvision.datasets.MNIST(root='./data', download=False, train=True)"
      ],
      "execution_count": null,
      "outputs": [
        {
          "output_type": "stream",
          "text": [
            "Cloning into 'data'...\n",
            "remote: Enumerating objects: 16, done.\u001b[K\n",
            "remote: Counting objects: 100% (16/16), done.\u001b[K\n",
            "remote: Compressing objects: 100% (14/14), done.\u001b[K\n",
            "remote: Total 16 (delta 2), reused 16 (delta 2), pack-reused 0\u001b[K\n",
            "Unpacking objects: 100% (16/16), done.\n"
          ],
          "name": "stdout"
        }
      ]
    },
    {
      "cell_type": "markdown",
      "metadata": {
        "id": "Gc1Oo7yVQhHW"
      },
      "source": [
        "Each element of the dataset is a 2-tuple, consisting of the image of the digit, and its label. E.g.,"
      ]
    },
    {
      "cell_type": "code",
      "metadata": {
        "colab": {
          "base_uri": "https://localhost:8080/"
        },
        "id": "j3o7ZiKxQiSQ",
        "outputId": "63a20ce1-ef5d-41d7-bef1-0d4b3ba6b2d2"
      },
      "source": [
        "image, label = mnist_train[13]\n",
        "print('This is a digit {}:'.format(label))\n",
        "image"
      ],
      "execution_count": null,
      "outputs": [
        {
          "output_type": "stream",
          "text": [
            "This is a digit 6:\n"
          ],
          "name": "stdout"
        },
        {
          "output_type": "execute_result",
          "data": {
            "image/png": "[encoded data removed]",
            "text/plain": [
              "<PIL.Image.Image image mode=L size=28x28 at 0x7FC8BEF5D990>"
            ]
          },
          "metadata": {
            "tags": []
          },
          "execution_count": 61
        }
      ]
    },
    {
      "cell_type": "code",
      "metadata": {
        "colab": {
          "base_uri": "https://localhost:8080/"
        },
        "id": "GgjpbNOJQ6uZ",
        "outputId": "fa21b859-5e25-4e17-c426-a2d7aaccd435"
      },
      "source": [
        "type(image)"
      ],
      "execution_count": null,
      "outputs": [
        {
          "output_type": "execute_result",
          "data": {
            "text/plain": [
              "PIL.Image.Image"
            ]
          },
          "metadata": {
            "tags": []
          },
          "execution_count": 62
        }
      ]
    },
    {
      "cell_type": "markdown",
      "metadata": {
        "id": "Rr4PArJFQ_md"
      },
      "source": [
        "The image is given as a `PIL.Image`. To automatically obtain a `torch.Tensor`, we can add a [`torchvision.transforms.ToTensor` ](https://pytorch.org/docs/stable/torchvision/transforms.html#torchvision.transforms.ToTensor) transform when constructing the dataset:"
      ]
    },
    {
      "cell_type": "code",
      "metadata": {
        "id": "gguJtULrRBb5"
      },
      "source": [
        "mnist_train = torchvision.datasets.MNIST(root='./data', download=False, train=True,\n",
        "                                         transform=torchvision.transforms.ToTensor())  # the ToTensor transform converts PIL.Image to torch.Tensor"
      ],
      "execution_count": null,
      "outputs": []
    },
    {
      "cell_type": "code",
      "metadata": {
        "colab": {
          "base_uri": "https://localhost:8080/"
        },
        "id": "2xHsFXSQRI4r",
        "outputId": "51922238-bc25-426c-ad93-c8a7a00afde8"
      },
      "source": [
        "image, label = mnist_train[13]\n",
        "print(type(image))\n",
        "print(image.shape)  # MNIST images are 28x28, and have a single channel representing brightness."
      ],
      "execution_count": null,
      "outputs": [
        {
          "output_type": "stream",
          "text": [
            "<class 'torch.Tensor'>\n",
            "torch.Size([1, 28, 28])\n"
          ],
          "name": "stdout"
        }
      ]
    },
    {
      "cell_type": "code",
      "metadata": {
        "colab": {
          "base_uri": "https://localhost:8080/"
        },
        "id": "MX6lJPTIRKVM",
        "outputId": "5e054658-5169-4d85-ee16-9a9d9815fc04"
      },
      "source": [
        "print('This image has max={}'.format(image.max()), 'and min={}'.format(image.min()))"
      ],
      "execution_count": null,
      "outputs": [
        {
          "output_type": "stream",
          "text": [
            "This image has max=1.0 and min=0.0\n"
          ],
          "name": "stdout"
        }
      ]
    },
    {
      "cell_type": "markdown",
      "metadata": {
        "id": "ZFvgxfUDROGz"
      },
      "source": [
        "In deep learning, it is often a good idea to normalize network inputs to be centered around zero. We use the [`torchvision.transforms.Normalize`](https://pytorch.org/docs/stable/torchvision/transforms.html#torchvision.transforms.Normalize) tranform to achieve this. Adding this transform, we construct the dataset as:"
      ]
    },
    {
      "cell_type": "code",
      "metadata": {
        "id": "F4U6H9sSRMAa"
      },
      "source": [
        "transform = torchvision.transforms.Compose([\n",
        "    torchvision.transforms.ToTensor(),\n",
        "    torchvision.transforms.Normalize(mean=(0.5,), std=(0.5,)),  # [0, 1] range => [-1, 1] range\n",
        "])\n",
        "\n",
        "mnist_train = torchvision.datasets.MNIST(root='./data', download=False, train=True,\n",
        "                                         transform=transform)\n",
        "mnist_val = torchvision.datasets.MNIST(root='./data', download=False, train=False,\n",
        "                                         transform=transform)"
      ],
      "execution_count": null,
      "outputs": []
    },
    {
      "cell_type": "code",
      "metadata": {
        "colab": {
          "base_uri": "https://localhost:8080/"
        },
        "id": "_fmaVjZ9nVFv",
        "outputId": "6e72e800-5627-4a11-d1ff-4fe4ae5b3d84"
      },
      "source": [
        "image, label = mnist_train[13]\n",
        "print(type(image))\n",
        "print(image.shape)  # MNIST images are 28x28, and have a single channel representing brightness."
      ],
      "execution_count": null,
      "outputs": [
        {
          "output_type": "stream",
          "text": [
            "<class 'torch.Tensor'>\n",
            "torch.Size([1, 28, 28])\n"
          ],
          "name": "stdout"
        }
      ]
    },
    {
      "cell_type": "code",
      "metadata": {
        "colab": {
          "base_uri": "https://localhost:8080/"
        },
        "id": "yvsE_Z9KnXDq",
        "outputId": "10de2ce5-db0f-4f59-e772-16ad2f006663"
      },
      "source": [
        "print('This image has max={}'.format(image.max()), 'and min={}'.format(image.min()))"
      ],
      "execution_count": null,
      "outputs": [
        {
          "output_type": "stream",
          "text": [
            "This image has max=1.0 and min=-1.0\n"
          ],
          "name": "stdout"
        }
      ]
    },
    {
      "cell_type": "code",
      "metadata": {
        "colab": {
          "base_uri": "https://localhost:8080/"
        },
        "id": "cVC9ZncXRQps",
        "outputId": "a0ccdb90-d764-4537-eed2-c58939b63fd8"
      },
      "source": [
        "print('training set size:\\t{}'.format(len(mnist_train)))\n",
        "print('validation set size:\\t{}'.format(len(mnist_val)))"
      ],
      "execution_count": null,
      "outputs": [
        {
          "output_type": "stream",
          "text": [
            "training set size:\t60000\n",
            "validation set size:\t10000\n"
          ],
          "name": "stdout"
        }
      ]
    },
    {
      "cell_type": "markdown",
      "metadata": {
        "id": "TlHTeF_WRTXQ"
      },
      "source": [
        "We use the PyTorch `torch.utils.data.DataLoader` to automatically load batched data. "
      ]
    },
    {
      "cell_type": "code",
      "metadata": {
        "colab": {
          "base_uri": "https://localhost:8080/"
        },
        "id": "ZNcxT1r9RR3g",
        "outputId": "58982c78-85e9-4362-946c-ed2a1e46357c"
      },
      "source": [
        "batch_size = 512\n",
        "\n",
        "train_loader = torch.utils.data.DataLoader(mnist_train, \n",
        "                                           batch_size=batch_size,\n",
        "                                           shuffle=True,                   # shuffle training set\n",
        "                                           num_workers=4,                  # turns on multi-processing loading so training is not blocked by data loading\n",
        "                                           pin_memory=True)                # pin_memory allows faster transfer from CPU to GPU\n",
        "val_loader = torch.utils.data.DataLoader(mnist_val, \n",
        "                                         batch_size=batch_size, \n",
        "                                         num_workers=4, \n",
        "                                         pin_memory=True)"
      ],
      "execution_count": null,
      "outputs": [
        {
          "output_type": "stream",
          "text": [
            "/usr/local/lib/python3.7/dist-packages/torch/utils/data/dataloader.py:477: UserWarning: This DataLoader will create 4 worker processes in total. Our suggested max number of worker in current system is 2, which is smaller than what this DataLoader is going to create. Please be aware that excessive worker creation might get DataLoader running slow or even freeze, lower the worker number to avoid potential slowness/freeze if necessary.\n",
            "  cpuset_checked))\n"
          ],
          "name": "stderr"
        }
      ]
    },
    {
      "cell_type": "code",
      "metadata": {
        "colab": {
          "base_uri": "https://localhost:8080/"
        },
        "id": "imWgnjzFRWWR",
        "outputId": "150ad949-0934-45b3-ccae-3b091a1bdab0"
      },
      "source": [
        "# Each element yielded by `train_loader` (a Python iterable) is still a 2-tuple, \n",
        "# but now consisting of a batched image tensor, and a batched label tensor.\n",
        "\n",
        "images, labels = next(iter(train_loader))\n",
        "print('batched image tensor shape: {}'.format(images.shape))\n",
        "print('batched label tensor shape: {}'.format(labels.shape))"
      ],
      "execution_count": null,
      "outputs": [
        {
          "output_type": "stream",
          "text": [
            "/usr/local/lib/python3.7/dist-packages/torch/utils/data/dataloader.py:477: UserWarning: This DataLoader will create 4 worker processes in total. Our suggested max number of worker in current system is 2, which is smaller than what this DataLoader is going to create. Please be aware that excessive worker creation might get DataLoader running slow or even freeze, lower the worker number to avoid potential slowness/freeze if necessary.\n",
            "  cpuset_checked))\n"
          ],
          "name": "stderr"
        },
        {
          "output_type": "stream",
          "text": [
            "batched image tensor shape: torch.Size([512, 1, 28, 28])\n",
            "batched label tensor shape: torch.Size([512])\n"
          ],
          "name": "stdout"
        }
      ]
    },
    {
      "cell_type": "markdown",
      "metadata": {
        "id": "KdfbptQORYxX"
      },
      "source": [
        "### Building the Network\n",
        "\n",
        "We will use a convolutional network for classification. The following architecture is adapted from the famous [LeNet-5](https://ieeexplore.ieee.org/document/726791) [1].\n",
        "\n",
        "[1] LeCun, Yann, et al. \"Gradient-based learning applied to document recognition.\" Proceedings of the IEEE 86.11 (1998): 2278-2324."
      ]
    },
    {
      "cell_type": "code",
      "metadata": {
        "id": "RZHIa0HURao8"
      },
      "source": [
        "class MyNet(nn.Module):\n",
        "    def __init__(self):\n",
        "        super(MyNet, self).__init__()\n",
        "        self.conv1 = nn.Conv2d(in_channels=1, out_channels=6, kernel_size=5, padding=2)\n",
        "        self.conv2 = nn.Conv2d(in_channels=6, out_channels=16, kernel_size=5)\n",
        "        self.fc1 = nn.Linear(in_features=16 * 5 * 5, out_features=120)\n",
        "        self.fc2 = nn.Linear(in_features=120, out_features=84)\n",
        "        self.fc3 = nn.Linear(in_features=84, out_features=10)\n",
        "\n",
        "    def forward(self, x):\n",
        "        out = F.relu(self.conv1(x))\n",
        "        out = F.max_pool2d(out, 2)\n",
        "        out = F.relu(self.conv2(out))\n",
        "        out = F.max_pool2d(out, 2)\n",
        "        out = out.reshape(out.size(0), -1)\n",
        "        out = F.relu(self.fc1(out))\n",
        "        out = F.relu(self.fc2(out))\n",
        "        out = self.fc3(out)\n",
        "        return out"
      ],
      "execution_count": null,
      "outputs": []
    },
    {
      "cell_type": "code",
      "metadata": {
        "id": "QSd7l5gaR7Mf"
      },
      "source": [
        "net = MyNet().to(cuda0)"
      ],
      "execution_count": null,
      "outputs": []
    },
    {
      "cell_type": "code",
      "metadata": {
        "colab": {
          "base_uri": "https://localhost:8080/"
        },
        "id": "z_Vi0ypDR8iz",
        "outputId": "f068afc6-76ea-4a21-a10d-17b3a5aba3c9"
      },
      "source": [
        "# This network output a size 10 vector for each input image, as verified below \n",
        "# using a random input tensor.\n",
        "\n",
        "random_input = torch.randn(123, 1, 28, 28, device=cuda0)\n",
        "output = net(random_input)\n",
        "print(output.shape)"
      ],
      "execution_count": null,
      "outputs": [
        {
          "output_type": "stream",
          "text": [
            "torch.Size([123, 10])\n"
          ],
          "name": "stdout"
        }
      ]
    },
    {
      "cell_type": "markdown",
      "metadata": {
        "id": "Wt7fPVCASBEK"
      },
      "source": [
        "### Training Loop\n",
        "\n",
        "\n",
        "For classification, we will use the cross-entropy loss [`F.cross_entropy`](https://pytorch.org/docs/stable/nn.html#torch.nn.functional.cross_entropy) to train this network."
      ]
    },
    {
      "cell_type": "markdown",
      "metadata": {
        "id": "ceGkrZIkSDFW"
      },
      "source": [
        "We can write a function that iterates through the training set (via `train_loader`) and train for 1 epoch. The code is extremely similar to what we did for approximating $f(x) = \\cos(x)$, only with new ways to load data and compute loss."
      ]
    },
    {
      "cell_type": "code",
      "metadata": {
        "id": "UHi6_O9LR94m"
      },
      "source": [
        "def train(net, optim):\n",
        "    net.train()\n",
        "    for image_cpu, label_cpu in train_loader:\n",
        "        # put data onto GPU\n",
        "        image = image_cpu.to(cuda0)\n",
        "        label = label_cpu.to(cuda0)\n",
        "        \n",
        "        # clear gradient\n",
        "        optim.zero_grad()\n",
        "        \n",
        "        # forward through the network\n",
        "        output = net(image)\n",
        "        \n",
        "        # compute loss and gradient\n",
        "        loss = F.cross_entropy(output, label)\n",
        "        loss.backward()\n",
        "        \n",
        "        # update parameters\n",
        "        optim.step()"
      ],
      "execution_count": null,
      "outputs": []
    },
    {
      "cell_type": "markdown",
      "metadata": {
        "id": "U1xmTXwsSGZr"
      },
      "source": [
        "Let's also write a function that evaluates our network on the validation set."
      ]
    },
    {
      "cell_type": "code",
      "metadata": {
        "id": "bePyyYKuSFQ6"
      },
      "source": [
        "def evaluate(net):\n",
        "    total = 0\n",
        "    correct = 0\n",
        "    \n",
        "    net.eval()  # puts the network in eval mode. this is important when the \n",
        "                # network has layers that behaves differently in training and \n",
        "                # evaluation time, e.g., dropout and batch norm.\n",
        "    for image_cpu, label_cpu in val_loader:\n",
        "        # put data onto GPU\n",
        "        image = image_cpu.to(cuda0)\n",
        "        label = label_cpu.to(cuda0)\n",
        "        \n",
        "        with torch.no_grad():  # gradients are not tracked in this context manager\n",
        "                               # since we are evaluating, gradients are not needed \n",
        "                               # and we can save some time and GPU memory.\n",
        "              \n",
        "            # forward through the network, and get the predicted class\n",
        "            prediction = net(image).argmax(dim=-1)  \n",
        "            \n",
        "            total += image.size(0)  # batch size\n",
        "            correct += (prediction == label).sum().item()  # `.item()` retreives a python number from a 1-element tensor\n",
        "            \n",
        "    return correct / total"
      ],
      "execution_count": null,
      "outputs": []
    },
    {
      "cell_type": "code",
      "metadata": {
        "colab": {
          "base_uri": "https://localhost:8080/"
        },
        "id": "X4_c9cBMSIv8",
        "outputId": "dcb70e08-ba74-4404-f179-0e4e4f93d9d8"
      },
      "source": [
        "# Without any training, the network accuracy matches that of random guessing: ~10%.\n",
        "\n",
        "print('At initialization, the network has accuracy {:.4f}%'.format(evaluate(net) * 100))"
      ],
      "execution_count": null,
      "outputs": [
        {
          "output_type": "stream",
          "text": [
            "/usr/local/lib/python3.7/dist-packages/torch/utils/data/dataloader.py:477: UserWarning: This DataLoader will create 4 worker processes in total. Our suggested max number of worker in current system is 2, which is smaller than what this DataLoader is going to create. Please be aware that excessive worker creation might get DataLoader running slow or even freeze, lower the worker number to avoid potential slowness/freeze if necessary.\n",
            "  cpuset_checked))\n"
          ],
          "name": "stderr"
        },
        {
          "output_type": "stream",
          "text": [
            "At initialization, the network has accuracy 11.3500%\n"
          ],
          "name": "stdout"
        }
      ]
    },
    {
      "cell_type": "markdown",
      "metadata": {
        "id": "f4a6lCxxSLwE"
      },
      "source": [
        "### Putting Everything Together"
      ]
    },
    {
      "cell_type": "code",
      "metadata": {
        "colab": {
          "base_uri": "https://localhost:8080/"
        },
        "id": "blCErHxRSKLO",
        "outputId": "01eb075b-959c-49f9-a1cb-fb1637a93db1"
      },
      "source": [
        "num_epochs = 10\n",
        "lr = 0.1\n",
        "\n",
        "optim = torch.optim.SGD(net.parameters(), lr=lr)\n",
        "\n",
        "for epoch in range(num_epochs):\n",
        "    print('Epoch: {}\\tValidation Accuracy: {:.4f}%'.format(epoch, evaluate(net) * 100))\n",
        "    train(net, optim)\n",
        "\n",
        "print('Done! \\tValidation Accuracy: {:.4f}%'.format(evaluate(net) * 100))"
      ],
      "execution_count": null,
      "outputs": [
        {
          "output_type": "stream",
          "text": [
            "/usr/local/lib/python3.7/dist-packages/torch/utils/data/dataloader.py:477: UserWarning: This DataLoader will create 4 worker processes in total. Our suggested max number of worker in current system is 2, which is smaller than what this DataLoader is going to create. Please be aware that excessive worker creation might get DataLoader running slow or even freeze, lower the worker number to avoid potential slowness/freeze if necessary.\n",
            "  cpuset_checked))\n"
          ],
          "name": "stderr"
        },
        {
          "output_type": "stream",
          "text": [
            "Epoch: 0\tValidation Accuracy: 11.3500%\n",
            "Epoch: 1\tValidation Accuracy: 72.6900%\n",
            "Epoch: 2\tValidation Accuracy: 91.7800%\n",
            "Epoch: 3\tValidation Accuracy: 96.6900%\n",
            "Epoch: 4\tValidation Accuracy: 96.1900%\n",
            "Epoch: 5\tValidation Accuracy: 95.9500%\n",
            "Epoch: 6\tValidation Accuracy: 96.7600%\n",
            "Epoch: 7\tValidation Accuracy: 98.2800%\n",
            "Epoch: 8\tValidation Accuracy: 96.3200%\n",
            "Epoch: 9\tValidation Accuracy: 98.4100%\n",
            "Done! \tValidation Accuracy: 98.3800%\n"
          ],
          "name": "stdout"
        }
      ]
    },
    {
      "cell_type": "code",
      "metadata": {
        "id": "erCAbcMAWOGn"
      },
      "source": [
        "import PIL\n",
        "\n",
        "# Utility function\n",
        "def tensor2image(tensor):\n",
        "    return PIL.Image.fromarray((tensor.detach() * 127.5 + 128).clamp_(0, 255).to('cpu', torch.uint8).numpy()[0])"
      ],
      "execution_count": null,
      "outputs": []
    },
    {
      "cell_type": "code",
      "metadata": {
        "id": "ypPkHrW4UjKa"
      },
      "source": [
        "# Get a data sample we want to attack\n",
        "\n",
        "data, label = mnist_val[30]\n",
        "data = data.to(cuda0)"
      ],
      "execution_count": null,
      "outputs": []
    },
    {
      "cell_type": "code",
      "metadata": {
        "colab": {
          "base_uri": "https://localhost:8080/"
        },
        "id": "owRgngI4WTIj",
        "outputId": "b2320051-dfba-4367-948f-55a7fb2089fc"
      },
      "source": [
        "# Look at the image\n",
        "\n",
        "tensor2image(data)"
      ],
      "execution_count": null,
      "outputs": [
        {
          "output_type": "execute_result",
          "data": {
            "image/png": "[encoded data removed]",
            "text/plain": [
              "<PIL.Image.Image image mode=L size=28x28 at 0x7FC8BDBFFA10>"
            ]
          },
          "metadata": {
            "tags": []
          },
          "execution_count": 81
        }
      ]
    },
    {
      "cell_type": "code",
      "metadata": {
        "colab": {
          "base_uri": "https://localhost:8080/"
        },
        "id": "OaqGZih1WUdv",
        "outputId": "21883181-cd9d-46ce-8ddc-3732cad3221d"
      },
      "source": [
        "# Label is...\n",
        "\n",
        "print('label is', label)"
      ],
      "execution_count": null,
      "outputs": [
        {
          "output_type": "stream",
          "text": [
            "label is 3\n"
          ],
          "name": "stdout"
        }
      ]
    },
    {
      "cell_type": "code",
      "metadata": {
        "colab": {
          "base_uri": "https://localhost:8080/"
        },
        "id": "Qpd4pjoVWake",
        "outputId": "819eebfc-cf98-424d-a7f9-0326d061dcf2"
      },
      "source": [
        "# Let's see what our trained network says about this image.\n",
        "\n",
        "\n",
        "# turn the network into eval mode\n",
        "net.eval()\n",
        "output = net(data.unsqueeze(0))  # .unsqueeze(0) insert a batch dimension so it looks like batched data\n",
        "prediction = output.argmax(-1)\n",
        "print('predicted class is', prediction.item())"
      ],
      "execution_count": null,
      "outputs": [
        {
          "output_type": "stream",
          "text": [
            "predicted class is 3\n"
          ],
          "name": "stdout"
        }
      ]
    },
    {
      "cell_type": "markdown",
      "metadata": {
        "id": "0ONMRURAzzAX"
      },
      "source": [
        "check more samples:"
      ]
    },
    {
      "cell_type": "code",
      "metadata": {
        "colab": {
          "base_uri": "https://localhost:8080/",
          "height": 1000
        },
        "id": "_0V-GiKDXmO6",
        "outputId": "70dd1804-d86c-40b2-8260-6b2262d0efec"
      },
      "source": [
        "import matplotlib.pyplot as plt\n",
        "for i in range(30):\n",
        "    # Get a data sample we want to attack\n",
        "\n",
        "    data, label = mnist_val[i]\n",
        "    data = data.to(cuda0)\n",
        "    # Look at the image\n",
        "\n",
        "    plt.figure(figsize=(1,1))\n",
        "    plt.imshow(tensor2image(data), cmap='gray')\n",
        "    plt.axis('off')\n",
        "    plt.show()\n",
        "    \n",
        "    # turn the network into eval mode\n",
        "    net.eval()\n",
        "    output = net(data.unsqueeze(0))  # .unsqueeze(0) insert a batch dimension so it looks like batched data\n",
        "    prediction = output.argmax(-1)\n",
        "    print('predicted class is', prediction.item())"
      ],
      "execution_count": null,
      "outputs": [
        {
          "output_type": "display_data",
          "data": {
            "image/png": "[encoded data removed]",
            "text/plain": [
              "<Figure size 72x72 with 1 Axes>"
            ]
          },
          "metadata": {
            "tags": [],
            "needs_background": "light"
          }
        },
        {
          "output_type": "stream",
          "text": [
            "predicted class is 7\n"
          ],
          "name": "stdout"
        },
        {
          "output_type": "display_data",
          "data": {
            "image/png": "[encoded data removed]",
            "text/plain": [
              "<Figure size 72x72 with 1 Axes>"
            ]
          },
          "metadata": {
            "tags": [],
            "needs_background": "light"
          }
        },
        {
          "output_type": "stream",
          "text": [
            "predicted class is 2\n"
          ],
          "name": "stdout"
        },
        {
          "output_type": "display_data",
          "data": {
            "image/png": "[encoded data removed]",
            "text/plain": [
              "<Figure size 72x72 with 1 Axes>"
            ]
          },
          "metadata": {
            "tags": [],
            "needs_background": "light"
          }
        },
        {
          "output_type": "stream",
          "text": [
            "predicted class is 1\n"
          ],
          "name": "stdout"
        },
        {
          "output_type": "display_data",
          "data": {
            "image/png": "[encoded data removed]",
            "text/plain": [
              "<Figure size 72x72 with 1 Axes>"
            ]
          },
          "metadata": {
            "tags": [],
            "needs_background": "light"
          }
        },
        {
          "output_type": "stream",
          "text": [
            "predicted class is 0\n"
          ],
          "name": "stdout"
        },
        {
          "output_type": "display_data",
          "data": {
            "image/png": "[encoded data removed]",
            "text/plain": [
              "<Figure size 72x72 with 1 Axes>"
            ]
          },
          "metadata": {
            "tags": [],
            "needs_background": "light"
          }
        },
        {
          "output_type": "stream",
          "text": [
            "predicted class is 4\n"
          ],
          "name": "stdout"
        },
        {
          "output_type": "display_data",
          "data": {
            "image/png": "[encoded data removed]",
            "text/plain": [
              "<Figure size 72x72 with 1 Axes>"
            ]
          },
          "metadata": {
            "tags": [],
            "needs_background": "light"
          }
        },
        {
          "output_type": "stream",
          "text": [
            "predicted class is 1\n"
          ],
          "name": "stdout"
        },
        {
          "output_type": "display_data",
          "data": {
            "image/png": "[encoded data removed]",
            "text/plain": [
              "<Figure size 72x72 with 1 Axes>"
            ]
          },
          "metadata": {
            "tags": [],
            "needs_background": "light"
          }
        },
        {
          "output_type": "stream",
          "text": [
            "predicted class is 4\n"
          ],
          "name": "stdout"
        },
        {
          "output_type": "display_data",
          "data": {
            "image/png": "[encoded data removed]",
            "text/plain": [
              "<Figure size 72x72 with 1 Axes>"
            ]
          },
          "metadata": {
            "tags": [],
            "needs_background": "light"
          }
        },
        {
          "output_type": "stream",
          "text": [
            "predicted class is 9\n"
          ],
          "name": "stdout"
        },
        {
          "output_type": "display_data",
          "data": {
            "image/png": "[encoded data removed]",
            "text/plain": [
              "<Figure size 72x72 with 1 Axes>"
            ]
          },
          "metadata": {
            "tags": [],
            "needs_background": "light"
          }
        },
        {
          "output_type": "stream",
          "text": [
            "predicted class is 5\n"
          ],
          "name": "stdout"
        },
        {
          "output_type": "display_data",
          "data": {
            "image/png": "[encoded data removed]",
            "text/plain": [
              "<Figure size 72x72 with 1 Axes>"
            ]
          },
          "metadata": {
            "tags": [],
            "needs_background": "light"
          }
        },
        {
          "output_type": "stream",
          "text": [
            "predicted class is 9\n"
          ],
          "name": "stdout"
        },
        {
          "output_type": "display_data",
          "data": {
            "image/png": "[encoded data removed]",
            "text/plain": [
              "<Figure size 72x72 with 1 Axes>"
            ]
          },
          "metadata": {
            "tags": [],
            "needs_background": "light"
          }
        },
        {
          "output_type": "stream",
          "text": [
            "predicted class is 0\n"
          ],
          "name": "stdout"
        },
        {
          "output_type": "display_data",
          "data": {
            "image/png": "[encoded data removed]",
            "text/plain": [
              "<Figure size 72x72 with 1 Axes>"
            ]
          },
          "metadata": {
            "tags": [],
            "needs_background": "light"
          }
        },
        {
          "output_type": "stream",
          "text": [
            "predicted class is 6\n"
          ],
          "name": "stdout"
        },
        {
          "output_type": "display_data",
          "data": {
            "image/png": "[encoded data removed]",
            "text/plain": [
              "<Figure size 72x72 with 1 Axes>"
            ]
          },
          "metadata": {
            "tags": [],
            "needs_background": "light"
          }
        },
        {
          "output_type": "stream",
          "text": [
            "predicted class is 9\n"
          ],
          "name": "stdout"
        },
        {
          "output_type": "display_data",
          "data": {
            "image/png": "[encoded data removed]",
            "text/plain": [
              "<Figure size 72x72 with 1 Axes>"
            ]
          },
          "metadata": {
            "tags": [],
            "needs_background": "light"
          }
        },
        {
          "output_type": "stream",
          "text": [
            "predicted class is 0\n"
          ],
          "name": "stdout"
        },
        {
          "output_type": "display_data",
          "data": {
            "image/png": "[encoded data removed]",
            "text/plain": [
              "<Figure size 72x72 with 1 Axes>"
            ]
          },
          "metadata": {
            "tags": [],
            "needs_background": "light"
          }
        },
        {
          "output_type": "stream",
          "text": [
            "predicted class is 1\n"
          ],
          "name": "stdout"
        },
        {
          "output_type": "display_data",
          "data": {
            "image/png": "[encoded data removed]",
            "text/plain": [
              "<Figure size 72x72 with 1 Axes>"
            ]
          },
          "metadata": {
            "tags": [],
            "needs_background": "light"
          }
        },
        {
          "output_type": "stream",
          "text": [
            "predicted class is 5\n"
          ],
          "name": "stdout"
        },
        {
          "output_type": "display_data",
          "data": {
            "image/png": "[encoded data removed]",
            "text/plain": [
              "<Figure size 72x72 with 1 Axes>"
            ]
          },
          "metadata": {
            "tags": [],
            "needs_background": "light"
          }
        },
        {
          "output_type": "stream",
          "text": [
            "predicted class is 9\n"
          ],
          "name": "stdout"
        },
        {
          "output_type": "display_data",
          "data": {
            "image/png": "[encoded data removed]",
            "text/plain": [
              "<Figure size 72x72 with 1 Axes>"
            ]
          },
          "metadata": {
            "tags": [],
            "needs_background": "light"
          }
        },
        {
          "output_type": "stream",
          "text": [
            "predicted class is 7\n"
          ],
          "name": "stdout"
        },
        {
          "output_type": "display_data",
          "data": {
            "image/png": "[encoded data removed]",
            "text/plain": [
              "<Figure size 72x72 with 1 Axes>"
            ]
          },
          "metadata": {
            "tags": [],
            "needs_background": "light"
          }
        },
        {
          "output_type": "stream",
          "text": [
            "predicted class is 3\n"
          ],
          "name": "stdout"
        },
        {
          "output_type": "display_data",
          "data": {
            "image/png": "[encoded data removed]",
            "text/plain": [
              "<Figure size 72x72 with 1 Axes>"
            ]
          },
          "metadata": {
            "tags": [],
            "needs_background": "light"
          }
        },
        {
          "output_type": "stream",
          "text": [
            "predicted class is 4\n"
          ],
          "name": "stdout"
        },
        {
          "output_type": "display_data",
          "data": {
            "image/png": "[encoded data removed]",
            "text/plain": [
              "<Figure size 72x72 with 1 Axes>"
            ]
          },
          "metadata": {
            "tags": [],
            "needs_background": "light"
          }
        },
        {
          "output_type": "stream",
          "text": [
            "predicted class is 9\n"
          ],
          "name": "stdout"
        },
        {
          "output_type": "display_data",
          "data": {
            "image/png": "[encoded data removed]",
            "text/plain": [
              "<Figure size 72x72 with 1 Axes>"
            ]
          },
          "metadata": {
            "tags": [],
            "needs_background": "light"
          }
        },
        {
          "output_type": "stream",
          "text": [
            "predicted class is 6\n"
          ],
          "name": "stdout"
        },
        {
          "output_type": "display_data",
          "data": {
            "image/png": "[encoded data removed]",
            "text/plain": [
              "<Figure size 72x72 with 1 Axes>"
            ]
          },
          "metadata": {
            "tags": [],
            "needs_background": "light"
          }
        },
        {
          "output_type": "stream",
          "text": [
            "predicted class is 6\n"
          ],
          "name": "stdout"
        },
        {
          "output_type": "display_data",
          "data": {
            "image/png": "[encoded data removed]",
            "text/plain": [
              "<Figure size 72x72 with 1 Axes>"
            ]
          },
          "metadata": {
            "tags": [],
            "needs_background": "light"
          }
        },
        {
          "output_type": "stream",
          "text": [
            "predicted class is 5\n"
          ],
          "name": "stdout"
        },
        {
          "output_type": "display_data",
          "data": {
            "image/png": "[encoded data removed]",
            "text/plain": [
              "<Figure size 72x72 with 1 Axes>"
            ]
          },
          "metadata": {
            "tags": [],
            "needs_background": "light"
          }
        },
        {
          "output_type": "stream",
          "text": [
            "predicted class is 4\n"
          ],
          "name": "stdout"
        },
        {
          "output_type": "display_data",
          "data": {
            "image/png": "[encoded data removed]",
            "text/plain": [
              "<Figure size 72x72 with 1 Axes>"
            ]
          },
          "metadata": {
            "tags": [],
            "needs_background": "light"
          }
        },
        {
          "output_type": "stream",
          "text": [
            "predicted class is 0\n"
          ],
          "name": "stdout"
        },
        {
          "output_type": "display_data",
          "data": {
            "image/png": "[encoded data removed]",
            "text/plain": [
              "<Figure size 72x72 with 1 Axes>"
            ]
          },
          "metadata": {
            "tags": [],
            "needs_background": "light"
          }
        },
        {
          "output_type": "stream",
          "text": [
            "predicted class is 7\n"
          ],
          "name": "stdout"
        },
        {
          "output_type": "display_data",
          "data": {
            "image/png": "[encoded data removed]",
            "text/plain": [
              "<Figure size 72x72 with 1 Axes>"
            ]
          },
          "metadata": {
            "tags": [],
            "needs_background": "light"
          }
        },
        {
          "output_type": "stream",
          "text": [
            "predicted class is 4\n"
          ],
          "name": "stdout"
        },
        {
          "output_type": "display_data",
          "data": {
            "image/png": "[encoded data removed]",
            "text/plain": [
              "<Figure size 72x72 with 1 Axes>"
            ]
          },
          "metadata": {
            "tags": [],
            "needs_background": "light"
          }
        },
        {
          "output_type": "stream",
          "text": [
            "predicted class is 0\n"
          ],
          "name": "stdout"
        },
        {
          "output_type": "display_data",
          "data": {
            "image/png": "[encoded data removed]",
            "text/plain": [
              "<Figure size 72x72 with 1 Axes>"
            ]
          },
          "metadata": {
            "tags": [],
            "needs_background": "light"
          }
        },
        {
          "output_type": "stream",
          "text": [
            "predicted class is 1\n"
          ],
          "name": "stdout"
        }
      ]
    },
    {
      "cell_type": "markdown",
      "metadata": {
        "id": "oc86Gz3a2eVR"
      },
      "source": [
        "##### Congratulations! You finished the PyTorch tutorial! "
      ]
    }
  ]
}