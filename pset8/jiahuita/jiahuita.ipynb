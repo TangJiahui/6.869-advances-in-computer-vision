{
  "nbformat": 4,
  "nbformat_minor": 0,
  "metadata": {
    "colab": {
      "name": "pset8.ipynb",
      "provenance": [],
      "collapsed_sections": []
    },
    "kernelspec": {
      "name": "python3",
      "display_name": "Python 3"
    },
    "language_info": {
      "name": "python"
    }
  },
  "cells": [
    {
      "cell_type": "code",
      "source": [
        "import numpy as np"
      ],
      "metadata": {
        "id": "FrCYqYqj-DTa"
      },
      "execution_count": 21,
      "outputs": []
    },
    {
      "cell_type": "code",
      "source": [
        "def markov_chain(alpha):\n",
        "    phi_bc = phi_ef = np.array([[0.9, 0.1], [0.1, 0.9]])\n",
        "    psi_ab = psi_bd = psi_de = np.array([[alpha, 1-alpha], [1-alpha, alpha]])\n",
        "\n",
        "    # marginal of e. Message propagates from f to e. f observed to be 0.\n",
        "    m_ef_e = phi_ef.dot(np.array([[1.], [0.]]))\n",
        "    # marginal of d. Message propagates from e to d.\n",
        "    m_de_d = psi_de.dot(m_ef_e)\n",
        "    #print(m_de_d)\n",
        "    # marginal of b from d.\n",
        "    m_bd_b = psi_bd.dot(m_de_d)\n",
        "    #print(m_bd_b)\n",
        "    # marginal of b from c. Message propagates from c to b. c observed to be 1.\n",
        "    m_bc_b = phi_bc.dot(np.array([[0.], [1.]]))\n",
        "\n",
        "    # marginal of a. Messages from 2 ways.\n",
        "    m_ab_a = psi_ab.dot(m_bd_b * m_bc_b)\n",
        "    #print(m_bd_b * m_bc_b)\n",
        "\n",
        "    m_ab_a = m_ab_a / np.sum(m_ab_a)\n",
        "    return m_ab_a"
      ],
      "metadata": {
        "id": "S-eLj4xE_ENQ"
      },
      "execution_count": 22,
      "outputs": []
    },
    {
      "cell_type": "code",
      "execution_count": 23,
      "metadata": {
        "colab": {
          "base_uri": "https://localhost:8080/"
        },
        "id": "U-_Os-AL-A4E",
        "outputId": "68f0f4a6-7a3a-43e5-89cb-e24051d7a2b0"
      },
      "outputs": [
        {
          "output_type": "stream",
          "name": "stdout",
          "text": [
            "[[0.45971599]\n",
            " [0.54028401]]\n"
          ]
        }
      ],
      "source": [
        "alpha = 0.99\n",
        "\n",
        "marginal_a = markov_chain(alpha)\n",
        "print(marginal_a)"
      ]
    },
    {
      "cell_type": "code",
      "source": [
        "alpha = 0.9\n",
        "\n",
        "marginal_a = markov_chain(alpha)\n",
        "print(marginal_a)"
      ],
      "metadata": {
        "colab": {
          "base_uri": "https://localhost:8080/"
        },
        "id": "PCHwbmtlvSR8",
        "outputId": "e8c441d4-2536-4aea-aac5-aed80f1043b8"
      },
      "execution_count": 24,
      "outputs": [
        {
          "output_type": "stream",
          "name": "stdout",
          "text": [
            "[[0.30487805]\n",
            " [0.69512195]]\n"
          ]
        }
      ]
    },
    {
      "cell_type": "code",
      "source": [
        "alpha = 0.6\n",
        "\n",
        "marginal_a = markov_chain(alpha)\n",
        "print(marginal_a)"
      ],
      "metadata": {
        "colab": {
          "base_uri": "https://localhost:8080/"
        },
        "id": "t-pWy6Xi-Nxt",
        "outputId": "ca114aa7-9561-4343-93fd-099560f4d976"
      },
      "execution_count": 25,
      "outputs": [
        {
          "output_type": "stream",
          "name": "stdout",
          "text": [
            "[[0.42118227]\n",
            " [0.57881773]]\n"
          ]
        }
      ]
    }
  ]
}