{
 "cells": [
  {
   "cell_type": "code",
   "execution_count": null,
   "metadata": {
    "id": "N5O42CQm_WvV"
   },
   "outputs": [],
   "source": [
    "%matplotlib inline\n",
    "import numpy as np\n",
    "from scipy import ndimage\n",
    "import math\n",
    "import cv2\n",
    "import random\n",
    "import sys\n",
    "import math\n",
    "import requests\n",
    "import matplotlib.pyplot as plt\n",
    "np.set_printoptions(threshold=sys.maxsize)"
   ]
  },
  {
   "cell_type": "markdown",
   "metadata": {
    "id": "RqzQTJe2lcJ1"
   },
   "source": [
    "## Useful functions that may help you"
   ]
  },
  {
   "cell_type": "code",
   "execution_count": null,
   "metadata": {
    "id": "jqsGxV5j_WvX"
   },
   "outputs": [],
   "source": [
    "def im2double(im):\n",
    "    info = np.iinfo(im.dtype) # Get the data type of the input image\n",
    "    return im.astype(np.float) / info.max # Divide all values by the largest possible value in the datatype\n",
    "\n",
    "### Functions that might be helpful ###\n",
    "\n",
    "def im2col_sliding(A, BSZ, stepsize=1):\n",
    "    # This function is similar to the `im2col` function from MATLAB. It rearrange image blocks into columns.\n",
    "    # \n",
    "    # Paste the following command to a coding block and check out the results to get more intuitions!\n",
    "    # r = np.arange(25).reshape(5, 5); s = (3, 3); print(im2col_sliding(r, s).shape); print(im2col_sliding(r, s))\n",
    "\n",
    "    # Parameters\n",
    "    m,n = A.shape\n",
    "    s0, s1 = A.strides\n",
    "    nrows = m-BSZ[0]+1\n",
    "    ncols = n-BSZ[1]+1\n",
    "    shp = BSZ[0],BSZ[1],nrows,ncols\n",
    "    strd = s0,s1,s0,s1\n",
    "    out_view = np.lib.stride_tricks.as_strided(A, shape=shp, strides=strd)\n",
    "    return out_view.reshape(BSZ[0]*BSZ[1],-1)[:,::stepsize]\n",
    "\n",
    "def sub2ind(array_shape, rows, cols):\n",
    "    return rows*array_shape[1] + cols    "
   ]
  },
  {
   "cell_type": "markdown",
   "metadata": {
    "id": "6AobuQcZl0w9"
   },
   "source": [
    "## Get the images"
   ]
  },
  {
   "cell_type": "code",
   "execution_count": null,
   "metadata": {
    "id": "Rh69n362B-bY",
    "scrolled": true
   },
   "outputs": [],
   "source": [
    "r = requests.get(\"http://6.869.csail.mit.edu/sp22/pset7/rings.jpg\", timeout=0.5)\n",
    "if r.status_code == 200:\n",
    "    with open(\"rings.jpg\", 'wb') as f:\n",
    "        f.write(r.content)\n",
    "r = requests.get(\"http://6.869.csail.mit.edu/sp22/pset7/texture.jpg\", timeout=0.5)\n",
    "if r.status_code == 200:\n",
    "    with open(\"texture.jpg\", 'wb') as f:\n",
    "        f.write(r.content)"
   ]
  },
  {
   "cell_type": "markdown",
   "metadata": {
    "id": "_xLo5TVX_Wvb"
   },
   "source": [
    "## \"Find_matches\" function"
   ]
  },
  {
   "cell_type": "code",
   "execution_count": null,
   "metadata": {
    "id": "wATpXpd5_Wvb"
   },
   "outputs": [],
   "source": [
    "def Find_matches(template, sample, G):\n",
    "\n",
    "\n",
    "    ### Note: below is just a provided sketch, you can have your own code flow \n",
    "    ### parameters, as used by Efros and Leung\n",
    "    epsilon = 0.1\n",
    "    delta = 0.3\n",
    "    \n",
    "    #### TODO:\n",
    "    # 1. construct validMask is a square mask of width w that is 1 where template is filled\n",
    "    # 2. multiply validMask by G. Make sure the result is normalized to sum to 1. \n",
    "    # 3. unfold the result to a column vector (you can use x.ravel(order='F') for column-major order)\n",
    "\n",
    "    #### TODO:\n",
    "    # Play with im2col_sliding()! \n",
    "    # partition sample to blocks (represented by column vectors). \n",
    "    # We can actually do this only once, and pass this representation to this \n",
    "    # function, but we leave it as is in order not to change function signature \n",
    "    # that was instructed.\n",
    "    # 1. create a 2D feature matrix of size [template.size, nBlocks] containing \n",
    "    # the unfolded sample patches (you will need to concatenate channels for an RGB image)\n",
    "    # 2. unfold the template to a column vector (you can use x.ravel(order='F') for column-major order)\n",
    "\n",
    "    #### TODO:\n",
    "    # 1. write vectorized code to calculate SSD error (remember to mask them) for all unfolded patches\n",
    "    # 2. find the best blocks according to the thresholds listed in the pdf\n",
    "    # 3. extract the center pixel value (3 numbers for RGB) of the best blocks\n",
    "    # as best_matches. best_matches should have shape [3, number_of_best_blocks]\n",
    "\n",
    "    best_matches = None # Fill in with your code\n",
    "    errors = None # Fill in with your code\n",
    "    return best_matches, errors"
   ]
  },
  {
   "cell_type": "markdown",
   "metadata": {
    "id": "Y4EFMFBc_Wve"
   },
   "source": [
    "## \"Synth_texture\" function\n"
   ]
  },
  {
   "cell_type": "code",
   "execution_count": null,
   "metadata": {
    "id": "tVQ4D5FE_Wve"
   },
   "outputs": [],
   "source": [
    "def Synth_texture(sample, w, s):\n",
    "    ###Texture Synthesis by Non-parameteric Sampling / Efros and Leung\n",
    "    ###Note: below is just a provided sketch, you can have your own code flow\n",
    "    \n",
    "    ## Normalizing pixel intensity\n",
    "    sample = im2double(sample)\n",
    "    seed_size = 3\n",
    "    [sheight, swidth, nChannels] = sample.shape\n",
    "    theight = s[0]\n",
    "    twidth = s[1]\n",
    "    synthIm = np.full((theight, twidth, nChannels),np.nan)\n",
    "\n",
    "    ### TODO: Fill in mu, sigma, G\n",
    "    ### G is a centered 2D Gaussian with standard deviation w/6.4 sampled on a w x w grid\n",
    "    ### This is similar to what you did on pset 3! \n",
    "    G = np.zeros((w, w)) # Fill in with your code\n",
    "    G = np.repeat(G[:, :, np.newaxis], nChannels, axis=2)\n",
    "\n",
    "    ### Initialization: pick a random 3x3 patch from sample and place in the middle of the synthesized image.\n",
    "    ### Just for convenience, keep some space (SEED_SIZE) from the boundary\n",
    "    i0=31; j0=3\n",
    "    # i0 = round(seed_size + np.random.uniform(0,1) * (sheight - 2 * seed_size))\n",
    "    # j0 = round(seed_size + np.random.uniform(0,1) * (swidth - 2 * seed_size))\n",
    "    c = [round(.5 * x) for x in s]\n",
    "    synthIm[c[0]: c[0] + seed_size , c[1]: c[1] + seed_size ,:] = sample[i0: i0 + seed_size , j0: j0 + seed_size,:]\n",
    "     \n",
    "    ### bitmap indicating filled pixels\n",
    "    filled = np.zeros(s)\n",
    "    filled[c[0]: c[0] + seed_size , c[1]: c[1] + seed_size ] = 1\n",
    "    n_filled = int(np.sum(filled))\n",
    "    n_pixels = s[0]*s[1]\n",
    "\n",
    "    ### Main Loop\n",
    "    next_p = n_pixels / 10\n",
    "    while(n_filled < n_pixels):\n",
    "        # report progress\n",
    "        if(n_filled > next_p):\n",
    "            print( round(100 * n_filled / n_pixels), '% complete', )\n",
    "            next_p += n_pixels / 10\n",
    "            \n",
    "        ### dilate current boundary, find the next round of un-filled pixels\n",
    "        ### (ii, jj) represents the locations\n",
    "        border = ndimage.binary_dilation(filled).astype(filled.dtype) - filled\n",
    "        ii, jj = np.where(border == 1)     \n",
    "       \n",
    "        ### Permute (just to insert some random noise, not a must, but recommended. play with it!)\n",
    "        #perm = np.random.permutation(len(ii))\n",
    "        #ii = ii[perm]\n",
    "        #jj = jj[perm]        \n",
    "\n",
    "        for i in range(len(ii)):\n",
    "            ### Place window at the center of the current pixel to extract\n",
    "            ### the template patch\n",
    "            ic = [x for x in range(math.ceil(ii[i] - w/2), math.floor(ii[i] + w / 2)+1)]\n",
    "            ic = np.asarray(ic)\n",
    "            jc = [x for x in range(math.ceil(jj[i] - w/2), math.floor(jj[i] + w / 2)+1)]\n",
    "            jc = np.asarray(jc)\n",
    "            inbounds_ic = (ic >= 0) & (ic< theight)\n",
    "            inbounds_jc = (jc >=0) & (jc < twidth)\n",
    "            template = np.full((w, w, nChannels), np.nan)\n",
    "\n",
    "            nix_1 = np.ix_(np.nonzero(inbounds_ic)[0],np.nonzero(inbounds_jc)[0])\n",
    "            nix_2 = np.ix_(ic[inbounds_ic],jc[inbounds_jc])\n",
    "            template[nix_1] = synthIm[nix_2]\n",
    "\n",
    "            ### Call find_matches() to get the best matches from the src image.\n",
    "            [best_matches, errors] = Find_matches(template, sample, G)           \n",
    "        \n",
    "            ### TODO:\n",
    "            ### Sample from best matches and update synthIm\n",
    "            synthIm[ii[i], jj[i],:] = None # Fill in with your code\n",
    "\n",
    "            ### update bitmap indicating the corresponding pixel is filled\n",
    "            filled[ii[i], jj[i]] = 1\n",
    "            n_filled = n_filled + 1            \n",
    "            \n",
    "    return synthIm"
   ]
  },
  {
   "cell_type": "markdown",
   "metadata": {
    "id": "TXAg5fhg_Wvm"
   },
   "source": [
    "## main function"
   ]
  },
  {
   "cell_type": "code",
   "execution_count": null,
   "metadata": {
    "id": "QNIv9wtD_Wvn"
   },
   "outputs": [],
   "source": [
    "source = cv2.imread('rings.jpg')\n",
    "w = 5\n",
    "target = Synth_texture(source, w, [100, 100])\n",
    "\n",
    "plt.imshow(target)\n",
    "plt.title('w =' + str(w))\n",
    "plt.show()"
   ]
  }
 ],
 "metadata": {
  "colab": {
   "collapsed_sections": [],
   "name": "texture-synthesis.ipynb",
   "provenance": []
  },
  "kernelspec": {
   "display_name": "Python 3",
   "language": "python",
   "name": "python3"
  },
  "language_info": {
   "codemirror_mode": {
    "name": "ipython",
    "version": 3
   },
   "file_extension": ".py",
   "mimetype": "text/x-python",
   "name": "python",
   "nbconvert_exporter": "python",
   "pygments_lexer": "ipython3",
   "version": "3.8.5"
  }
 },
 "nbformat": 4,
 "nbformat_minor": 1
}
